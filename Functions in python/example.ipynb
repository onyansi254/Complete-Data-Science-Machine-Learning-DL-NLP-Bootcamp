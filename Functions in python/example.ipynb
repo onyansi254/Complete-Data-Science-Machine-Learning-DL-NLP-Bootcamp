{
 "cells": [
  {
   "cell_type": "markdown",
   "id": "bc8009b1",
   "metadata": {},
   "source": [
    "Example 1: Temoerature Conversion"
   ]
  },
  {
   "cell_type": "code",
   "execution_count": 4,
   "id": "40f35a73",
   "metadata": {},
   "outputs": [
    {
     "name": "stdout",
     "output_type": "stream",
     "text": [
      "77.0\n",
      "25.0\n"
     ]
    }
   ],
   "source": [
    "def convert_temp(temp,unit):\n",
    "    \"\"\"this function converts temperature btn celcius and fahrenheit\"\"\"\n",
    "    if unit =='C':\n",
    "        return temp * 9/5 + 32 #celcius to Fahrenheit\n",
    "    elif unit == \"F\":\n",
    "        return (temp - 32) * 5/9 ## Fahrenheit to celcius\n",
    "    else:\n",
    "        return None\n",
    "\n",
    "\n",
    "print (convert_temp(25,'C'))\n",
    "print (convert_temp(77,'F'))"
   ]
  },
  {
   "cell_type": "markdown",
   "id": "00b0adb9",
   "metadata": {},
   "source": [
    "example 2: Password strength checker"
   ]
  },
  {
   "cell_type": "code",
   "execution_count": 6,
   "id": "874b33a0",
   "metadata": {},
   "outputs": [
    {
     "name": "stdout",
     "output_type": "stream",
     "text": [
      "False\n",
      "True\n"
     ]
    }
   ],
   "source": [
    "def is_password_strong(password):\n",
    "    \"\"\"This function checks if the password is strong or not\"\"\"\n",
    "    if len(password) < 8:\n",
    "        return False\n",
    "    if not any(char.isdigit()for char in password):\n",
    "        return False\n",
    "    if not any(char.islower() for char in password):\n",
    "        return False\n",
    "    if not any(char.isupper() for char in password):\n",
    "        return False\n",
    "    if not any(char in '!@#$%^&*()_+' for char in password):\n",
    "        return False\n",
    "    return True\n",
    "\n",
    "\n",
    "# calling the function\n",
    "print(is_password_strong(\"WeakPwd\"))\n",
    "print(is_password_strong(\"Str0ngPwd!\"))"
   ]
  },
  {
   "cell_type": "markdown",
   "id": "9383ab31",
   "metadata": {},
   "source": [
    "Example 3: calculae cost of items in shopping cart"
   ]
  },
  {
   "cell_type": "code",
   "execution_count": 7,
   "id": "e5b13674",
   "metadata": {},
   "outputs": [
    {
     "name": "stdout",
     "output_type": "stream",
     "text": [
      "5.75\n"
     ]
    }
   ],
   "source": [
    " def calculate_total(cart):\n",
    "    total_cost = 0\n",
    "    for item in cart:\n",
    "        total_cost += item['price'] * item['quantity']\n",
    "    return total_cost\n",
    "\n",
    "    \"\"\"This function calculates the total price of items in the cart\"\"\"\n",
    "    \n",
    "# example cart data\n",
    "cart = [\n",
    "  {'name': 'apple', 'price': 0.5, 'quantity': 4},\n",
    "  {'name': 'banana', 'price': 0.25, 'quantity': 6},\n",
    "  {'name': 'orange', 'price': 0.75, 'quantity': 3}\n",
    "]\n",
    "\n",
    "# calling the function\n",
    "print(calculate_total(cart))"
   ]
  },
  {
   "cell_type": "markdown",
   "id": "9f72dbd2",
   "metadata": {},
   "source": [
    "Example 4: Check IF a String Is Palindrome"
   ]
  },
  {
   "cell_type": "code",
   "execution_count": 9,
   "id": "a842a204",
   "metadata": {},
   "outputs": [
    {
     "name": "stdout",
     "output_type": "stream",
     "text": [
      "True\n",
      "False\n"
     ]
    }
   ],
   "source": [
    "def is_palindrome(s):\n",
    "    \"\"\"This function checks if the string is a palindrome or not\"\"\"\n",
    "    s = s.lower().replace(\" \",\"\")\n",
    "    return  s==s[::-1] #  reverse is s[::-1]\n",
    "\n",
    "print(is_palindrome(\"A man a plan a canal Panama\"))\n",
    "print(is_palindrome(\"Hello World\"))"
   ]
  },
  {
   "cell_type": "markdown",
   "id": "e9de92dd",
   "metadata": {},
   "source": [
    "Example 5: Calculate the factorials of a number using recursion"
   ]
  },
  {
   "cell_type": "code",
   "execution_count": 12,
   "id": "8592ed24",
   "metadata": {},
   "outputs": [
    {
     "name": "stdout",
     "output_type": "stream",
     "text": [
      "120\n"
     ]
    }
   ],
   "source": [
    "def factorial(n):\n",
    "    \"\"\"This function calculates the factorial of a number\"\"\"\n",
    "    if n==0:\n",
    "        return 1\n",
    "    else:\n",
    "        return n * factorial(n-1)\n",
    "    \n",
    "print(factorial(5)) # 120"
   ]
  },
  {
   "cell_type": "markdown",
   "id": "82df8c4e",
   "metadata": {},
   "source": [
    "Example 6: A function to read a file and count the frequency of each word"
   ]
  },
  {
   "cell_type": "code",
   "execution_count": 3,
   "id": "00cc9d51",
   "metadata": {},
   "outputs": [
    {
     "name": "stdout",
     "output_type": "stream",
     "text": [
      "{'looking': 1, 'for': 2, 'a': 1, 'powerful': 1, 'tool': 1, 'to': 1, 'improve': 1, 'your': 1, 'content': 2, 'try': 1, 'ahrefs’': 1, 'ai': 1, 'helper': 1, 'available': 1, 'all': 1, 'paid': 1, 'subscribers': 1, 'while': 1, 'in': 1, 'beta': 1}\n"
     ]
    }
   ],
   "source": [
    "def count_word_frequency(file_path):\n",
    "    word_count = {}\n",
    "    with open(file_path, 'r') as file:\n",
    "        for line in file:\n",
    "            words=line.split()\n",
    "            for word in words:\n",
    "                word=word.lower().strip('.,!?:\"\\'')\n",
    "                word_count[word] = word_count.get(word,0)+1\n",
    "    return word_count\n",
    "\n",
    "filepath = 'sample.txt' # replace with your file path\n",
    "word_frequency = count_word_frequency(filepath)\n",
    "print(word_frequency)"
   ]
  },
  {
   "cell_type": "markdown",
   "id": "4e0acc33",
   "metadata": {},
   "source": [
    "Example 7: Email validation"
   ]
  },
  {
   "cell_type": "code",
   "execution_count": 5,
   "id": "badf6d9a",
   "metadata": {},
   "outputs": [
    {
     "name": "stdout",
     "output_type": "stream",
     "text": [
      "True\n",
      "False\n"
     ]
    }
   ],
   "source": [
    "import re\n",
    "\n",
    "# Email validation function\n",
    "def is_valid_email(email):\n",
    "    \"\"\"This function checks if the email is valid or not\"\"\"\n",
    "    pattern = r'^[a-zA-Z0-9_.+-]+@[a-zA-Z0-9-]+\\.[a-zA-Z0-9-.]+$'\n",
    "    return re.match(pattern, email) is not None\n",
    "\n",
    "# caling the function\n",
    "print(is_valid_email(\"ronyasni11@gmail.com\"))\n",
    "print(is_valid_email(\"invalid-email\"))"
   ]
  },
  {
   "cell_type": "code",
   "execution_count": null,
   "id": "bab6a231",
   "metadata": {},
   "outputs": [],
   "source": []
  }
 ],
 "metadata": {
  "kernelspec": {
   "display_name": "Python 3",
   "language": "python",
   "name": "python3"
  },
  "language_info": {
   "codemirror_mode": {
    "name": "ipython",
    "version": 3
   },
   "file_extension": ".py",
   "mimetype": "text/x-python",
   "name": "python",
   "nbconvert_exporter": "python",
   "pygments_lexer": "ipython3",
   "version": "3.10.16"
  }
 },
 "nbformat": 4,
 "nbformat_minor": 5
}
