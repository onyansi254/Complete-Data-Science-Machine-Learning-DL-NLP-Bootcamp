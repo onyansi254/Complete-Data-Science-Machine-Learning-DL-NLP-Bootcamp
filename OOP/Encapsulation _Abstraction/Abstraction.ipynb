{
 "cells": [
  {
   "cell_type": "code",
   "execution_count": 1,
   "id": "4db18f49",
   "metadata": {},
   "outputs": [],
   "source": [
    "## Abstraction is the hiding complex implementaton details  and showing only necessary features of an object"
   ]
  },
  {
   "cell_type": "code",
   "execution_count": 6,
   "id": "1afd2b73",
   "metadata": {},
   "outputs": [
    {
     "name": "stdout",
     "output_type": "stream",
     "text": [
      "Car engine started\n",
      "Driving...\n"
     ]
    }
   ],
   "source": [
    "from abc import ABC, abstractmethod\n",
    "\n",
    "## Abstract class\n",
    "class Vehicle(ABC):\n",
    "    def drive(self):\n",
    "        print(\"Driving...\")\n",
    "    \n",
    "    #abstract method\n",
    "    @abstractmethod\n",
    "    def start_engine(self):\n",
    "        pass\n",
    "\n",
    "class Car(Vehicle):\n",
    "    def start_engine(self):\n",
    "        print(\"Car engine started\")\n",
    "\n",
    "def operate_vehicle(vehicle):\n",
    "    vehicle.start_engine()\n",
    "    vehicle.drive()\n",
    "\n",
    "car = Car()\n",
    "operate_vehicle(car)  # Output: Car engine started\n"
   ]
  },
  {
   "cell_type": "code",
   "execution_count": null,
   "id": "a46f8751",
   "metadata": {},
   "outputs": [],
   "source": []
  }
 ],
 "metadata": {
  "kernelspec": {
   "display_name": "Python 3",
   "language": "python",
   "name": "python3"
  },
  "language_info": {
   "codemirror_mode": {
    "name": "ipython",
    "version": 3
   },
   "file_extension": ".py",
   "mimetype": "text/x-python",
   "name": "python",
   "nbconvert_exporter": "python",
   "pygments_lexer": "ipython3",
   "version": "3.10.16"
  }
 },
 "nbformat": 4,
 "nbformat_minor": 5
}
