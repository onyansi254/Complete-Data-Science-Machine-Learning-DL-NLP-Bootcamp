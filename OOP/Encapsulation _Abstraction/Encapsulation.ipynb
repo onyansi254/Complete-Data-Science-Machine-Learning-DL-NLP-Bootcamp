{
 "cells": [
  {
   "cell_type": "code",
   "execution_count": 1,
   "id": "9014ee29",
   "metadata": {},
   "outputs": [
    {
     "data": {
      "text/plain": [
       "' Abstaction is the concept of hiding the complex implementation details and showing only the essential features of the object.\\n# It allows the user to interact with the object without needing to understand its internal workings. '"
      ]
     },
     "execution_count": 1,
     "metadata": {},
     "output_type": "execute_result"
    }
   ],
   "source": [
    "\"\"\" Encapsulation -is bundling data and methods that operate on that data into a single unit, or class.\n",
    "It allows for data hiding, abstraction, and modularity. \"\"\"\n",
    "\n",
    "\"\"\" Abstaction is the concept of hiding the complex implementation details and showing only the essential features of the object.\n",
    "# It allows the user to interact with the object without needing to understand its internal workings. \"\"\"\n",
    "\n",
    "\n",
    "# Encapsulation is the concept of wrapping data and methods that operate on that data into a single unit, or class.\n"
   ]
  },
  {
   "cell_type": "code",
   "execution_count": 12,
   "id": "9ffba5fc",
   "metadata": {},
   "outputs": [
    {
     "data": {
      "text/plain": [
       "'John'"
      ]
     },
     "execution_count": 12,
     "metadata": {},
     "output_type": "execute_result"
    }
   ],
   "source": [
    "## Encapsulation with Getters and Setters\n",
    "class Person:\n",
    "    def __init__(self, name, age):\n",
    "        self.name = name # public variable\n",
    "        self.age = age # public variable\n",
    "\n",
    "def get_name(self):\n",
    "    return self.name\n",
    "\n",
    "person = Person(\"John\", 30)\n",
    "#print(person.name) # Accessing public variable\n",
    "\n",
    "get_name(person)\n"
   ]
  },
  {
   "cell_type": "code",
   "execution_count": 10,
   "id": "940739f9",
   "metadata": {},
   "outputs": [
    {
     "data": {
      "text/plain": [
       "['__class__',\n",
       " '__delattr__',\n",
       " '__dict__',\n",
       " '__dir__',\n",
       " '__doc__',\n",
       " '__eq__',\n",
       " '__format__',\n",
       " '__ge__',\n",
       " '__getattribute__',\n",
       " '__gt__',\n",
       " '__hash__',\n",
       " '__init__',\n",
       " '__init_subclass__',\n",
       " '__le__',\n",
       " '__lt__',\n",
       " '__module__',\n",
       " '__ne__',\n",
       " '__new__',\n",
       " '__reduce__',\n",
       " '__reduce_ex__',\n",
       " '__repr__',\n",
       " '__setattr__',\n",
       " '__sizeof__',\n",
       " '__str__',\n",
       " '__subclasshook__',\n",
       " '__weakref__',\n",
       " 'age',\n",
       " 'name']"
      ]
     },
     "execution_count": 10,
     "metadata": {},
     "output_type": "execute_result"
    }
   ],
   "source": [
    "dir(person) # dir() function returns a list of attributes and methods of the object"
   ]
  },
  {
   "cell_type": "code",
   "execution_count": 15,
   "id": "03a22c76",
   "metadata": {},
   "outputs": [],
   "source": [
    "## Encapsulation with Getters and Setters\n",
    "class Person:\n",
    "    def __init__(self, name, age, gender):\n",
    "        self.__name = name # private variable\n",
    "        self.__age = age # private variable\n",
    "        self.gender = gender # public variable"
   ]
  },
  {
   "cell_type": "code",
   "execution_count": 18,
   "id": "59d46a58",
   "metadata": {},
   "outputs": [
    {
     "data": {
      "text/plain": [
       "['_Person__age',\n",
       " '_Person__name',\n",
       " '__class__',\n",
       " '__delattr__',\n",
       " '__dict__',\n",
       " '__dir__',\n",
       " '__doc__',\n",
       " '__eq__',\n",
       " '__format__',\n",
       " '__ge__',\n",
       " '__getattribute__',\n",
       " '__gt__',\n",
       " '__hash__',\n",
       " '__init__',\n",
       " '__init_subclass__',\n",
       " '__le__',\n",
       " '__lt__',\n",
       " '__module__',\n",
       " '__ne__',\n",
       " '__new__',\n",
       " '__reduce__',\n",
       " '__reduce_ex__',\n",
       " '__repr__',\n",
       " '__setattr__',\n",
       " '__sizeof__',\n",
       " '__str__',\n",
       " '__subclasshook__',\n",
       " '__weakref__',\n",
       " 'gender']"
      ]
     },
     "execution_count": 18,
     "metadata": {},
     "output_type": "execute_result"
    }
   ],
   "source": [
    "person = Person(\"John\", 30, \"male\")\n",
    "dir(person) # dir() function returns a list of attributes and methods of the object"
   ]
  },
  {
   "cell_type": "code",
   "execution_count": null,
   "id": "0d6b590e",
   "metadata": {},
   "outputs": [
    {
     "name": "stdout",
     "output_type": "stream",
     "text": [
      "John\n"
     ]
    }
   ],
   "source": [
    "## Encapsulation with Getters and Setters// protected variable\n",
    "class Person:\n",
    "    def __init__(self, name, age):\n",
    "        self._name = name # protected variable\n",
    "        self._age = age # protected variable\n",
    "\n",
    "class Employee(Person):\n",
    "    def __init__(self, name, age, salary):\n",
    "\n",
    "        super().__init__(name, age) # calling the constructor of the parent class\n",
    "\n",
    "employee = Employee(\"John\", 30, 50000)\n",
    "print(employee._name) # Accessing protected variable\n",
    "\n"
   ]
  },
  {
   "cell_type": "code",
   "execution_count": 4,
   "id": "22a5f505",
   "metadata": {},
   "outputs": [
    {
     "name": "stdout",
     "output_type": "stream",
     "text": [
      "Richard\n",
      "23\n",
      "25\n",
      "Age must be positive\n"
     ]
    }
   ],
   "source": [
    "## Encaplsulation with settters and getters\n",
    "class Person:\n",
    "    def __init__(self,name,age):\n",
    "        self.__name = name # private variable\n",
    "        self.__age = age\n",
    "\n",
    "    ## getter method\n",
    "    def get_name(self):\n",
    "        return self.__name\n",
    "    ## setter method\n",
    "    def set_name(self, name):\n",
    "        self.__name = name\n",
    "\n",
    "    ## getter method\n",
    "    def get_age(self):\n",
    "        return self.__age\n",
    "    ## setter method\n",
    "    def set_age(self, age):\n",
    "        if age > 0:\n",
    "            self.__age = age\n",
    "        else:\n",
    "            print(\"Age must be positive\")\n",
    "\n",
    "\n",
    "person = Person(\"Richard\", 23)\n",
    "\n",
    "## Accessing private variable using getter method\n",
    "print(person.get_name()) # Accessing private variable using getter method\n",
    "print(person.get_age()) # Accessing private variable using getter method\n",
    "\n",
    "## Accessing private variable using setter method\n",
    "person.set_age(25)\n",
    "print(person.get_age())\n",
    "\n",
    "person.set_age(-5) # Accessing private variable using setter method"
   ]
  },
  {
   "cell_type": "code",
   "execution_count": null,
   "id": "8744db58",
   "metadata": {},
   "outputs": [],
   "source": []
  }
 ],
 "metadata": {
  "kernelspec": {
   "display_name": "Python 3",
   "language": "python",
   "name": "python3"
  },
  "language_info": {
   "codemirror_mode": {
    "name": "ipython",
    "version": 3
   },
   "file_extension": ".py",
   "mimetype": "text/x-python",
   "name": "python",
   "nbconvert_exporter": "python",
   "pygments_lexer": "ipython3",
   "version": "3.10.16"
  }
 },
 "nbformat": 4,
 "nbformat_minor": 5
}
