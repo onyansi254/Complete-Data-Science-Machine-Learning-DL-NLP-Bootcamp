{
 "cells": [
  {
   "cell_type": "code",
   "execution_count": 1,
   "id": "9b5ecda7",
   "metadata": {},
   "outputs": [],
   "source": [
    "# custom exception (Raise and throw)\n",
    "\n",
    "class Error(Exception):\n",
    "    pass \n",
    "\n",
    "class dobException(Error):\n",
    "    pass\n",
    "\n"
   ]
  },
  {
   "cell_type": "code",
   "execution_count": 2,
   "id": "2ecac732",
   "metadata": {},
   "outputs": [
    {
     "name": "stdout",
     "output_type": "stream",
     "text": [
      "The age is valid you can apply for the exam\n"
     ]
    }
   ],
   "source": [
    "year = int(input(\"Enter your birth year: \"))\n",
    "age = 2025 - year\n",
    "\n",
    "try:\n",
    "    if age <= 30 and age >=20:\n",
    "        print(\"The age is valid you can apply for the exam\")\n",
    "    else:\n",
    "        raise dobException\n",
    "except dobException:\n",
    "    print(\"The age is not valid you cannot apply for the exam\") "
   ]
  }
 ],
 "metadata": {
  "kernelspec": {
   "display_name": "Python 3",
   "language": "python",
   "name": "python3"
  },
  "language_info": {
   "codemirror_mode": {
    "name": "ipython",
    "version": 3
   },
   "file_extension": ".py",
   "mimetype": "text/x-python",
   "name": "python",
   "nbconvert_exporter": "python",
   "pygments_lexer": "ipython3",
   "version": "3.10.16"
  }
 },
 "nbformat": 4,
 "nbformat_minor": 5
}
