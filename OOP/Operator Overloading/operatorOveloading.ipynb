{
 "cells": [
  {
   "cell_type": "code",
   "execution_count": 1,
   "id": "7469c9fc",
   "metadata": {},
   "outputs": [],
   "source": [
    "## Operator overloading allows us to define how operators behave with our custom classes.\n",
    "\n",
    "# This is useful for making our classes more intuitive and easier to use."
   ]
  },
  {
   "cell_type": "code",
   "execution_count": 2,
   "id": "a1e8df46",
   "metadata": {},
   "outputs": [],
   "source": [
    "### common operator overloading magic methods\n",
    "# __add__ for addition (+)\n",
    "# __sub__ for subtraction (-)   \n",
    "# __mul__ for multiplication (*)\n",
    "# __truediv__ for division (/)  \n",
    "# __floordiv__ for floor division (//)\n",
    "# __mod__ for modulus (%)\n",
    "# __pow__ for exponentiation (**)\n",
    "# __eq__ for equality (==)\n",
    "# __ne__ for inequality (!=)\n",
    "# __lt__ for less than (<)\n",
    "# __le__ for less than or equal to (<=)\n",
    "# __gt__ for greater than (>)\n",
    "# __ge__ for greater than or equal to (>=)\n",
    "# __str__ for string representation (str())\n"
   ]
  },
  {
   "cell_type": "code",
   "execution_count": 4,
   "id": "6be41ea4",
   "metadata": {},
   "outputs": [
    {
     "name": "stdout",
     "output_type": "stream",
     "text": [
      "Vector(6, 8)\n",
      "Vector(-2, -2)\n",
      "Vector(6, 9)\n"
     ]
    }
   ],
   "source": [
    "class Vector:\n",
    "    def __init__(self, x, y):\n",
    "        self.x = x\n",
    "        self.y = y\n",
    "\n",
    "    def __add__(self, other):\n",
    "        return Vector(self.x + other.x, self.y + other.y)\n",
    "\n",
    "    def __sub__(self, other):\n",
    "        return Vector(self.x - other.x, self.y - other.y)\n",
    "\n",
    "    def __mul__(self, scalar):\n",
    "        return Vector(self.x * scalar, self.y * scalar)\n",
    "\n",
    "    def __eq__(self, value):\n",
    "        return self.x == value.x and self.y == value.y\n",
    "    \n",
    "    def __repr__(self):\n",
    "        return f\"Vector({self.x}, {self.y})\"\n",
    "    \n",
    "## create objects of the Vector class\n",
    "v1 = Vector(2, 3)\n",
    "v2 = Vector(4, 5)\n",
    "\n",
    "print(v1 + v2)  # Vector(6, 8)\n",
    "print(v1 - v2)  # Vector(-2, -2)\n",
    "print(v1 * 3)   # Vector(6, 9)"
   ]
  },
  {
   "cell_type": "code",
   "execution_count": 7,
   "id": "6704e584",
   "metadata": {},
   "outputs": [
    {
     "name": "stdout",
     "output_type": "stream",
     "text": [
      "Complex(6, 8)\n",
      "Complex(-2, -2)\n",
      "Complex(-7, 22)\n",
      "Complex(0.5609756097560976, 0.04878048780487805)\n",
      "False\n",
      "True\n"
     ]
    }
   ],
   "source": [
    "### overloading operators for complex numbers\n",
    "class Complex:\n",
    "    def __init__(self, real, imag):\n",
    "        self.real = real\n",
    "        self.imag = imag\n",
    "\n",
    "    def __add__(self, other):\n",
    "        return Complex(self.real + other.real, self.imag + other.imag)\n",
    "\n",
    "    def __sub__(self, other):\n",
    "        return Complex(self.real - other.real, self.imag - other.imag)\n",
    "\n",
    "    def __mul__(self, other):\n",
    "        return Complex(self.real * other.real - self.imag * other.imag,\n",
    "                       self.real * other.imag + self.imag * other.real)\n",
    "\n",
    "    def __truediv__(self, other):\n",
    "        denom = other.real ** 2 + other.imag ** 2\n",
    "        return Complex((self.real * other.real + self.imag * other.imag) / denom,\n",
    "                       (self.imag * other.real - self.real * other.imag) / denom)\n",
    "    \n",
    "    def __repr__(self):\n",
    "        return f\"Complex({self.real}, {self.imag})\"\n",
    "    \n",
    "# create objects of the complex class\n",
    "c1 = Complex(2, 3)\n",
    "c2 = Complex(4, 5)\n",
    "\n",
    "## use overloaded operators\n",
    "print(c1 + c2)  # Complex(6, 8)\n",
    "print(c1 - c2)  # Complex(-2, -2)\n",
    "print(c1 * c2)  # Complex(-7, 22)\n",
    "print(c1 / c2)  # Complex(0.61, 0.08)\n",
    "print(c1 == c2)  # False\n",
    "print(c1 != c2)  # True\n"
   ]
  },
  {
   "cell_type": "code",
   "execution_count": null,
   "id": "d63586f9",
   "metadata": {},
   "outputs": [],
   "source": []
  }
 ],
 "metadata": {
  "kernelspec": {
   "display_name": "Python 3",
   "language": "python",
   "name": "python3"
  },
  "language_info": {
   "codemirror_mode": {
    "name": "ipython",
    "version": 3
   },
   "file_extension": ".py",
   "mimetype": "text/x-python",
   "name": "python",
   "nbconvert_exporter": "python",
   "pygments_lexer": "ipython3",
   "version": "3.10.16"
  }
 },
 "nbformat": 4,
 "nbformat_minor": 5
}
