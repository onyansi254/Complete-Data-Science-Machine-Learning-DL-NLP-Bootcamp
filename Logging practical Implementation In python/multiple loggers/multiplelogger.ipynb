{
 "cells": [
  {
   "cell_type": "code",
   "execution_count": 2,
   "id": "065bf277",
   "metadata": {},
   "outputs": [],
   "source": [
    "# you can create multiple loggers for different parts of your application\n",
    "# and configure them separately\n",
    "\n",
    "import logging\n",
    "\n",
    "logger1 = logging.getLogger('module1')\n",
    "logger1.setLevel(logging.DEBUG)\n",
    "\n",
    "# create a logger for mode=ule2\n",
    "logger2 = logging.getLogger('module2')\n",
    "logger2.setLevel(logging.WARNING)\n",
    "\n",
    "# CONFIGURATION LOGGING SETTINGS\n",
    "logging.basicConfig(\n",
    "    level=logging.DEBUG,\n",
    "    format='%(asctime)s - %(name)s - %(levelname)s - %(message)s',\n",
    "    datefmt='%Y-%m-%d %H:%M:%S',\n",
    "    force=True\n",
    ")"
   ]
  },
  {
   "cell_type": "code",
   "execution_count": 3,
   "id": "026ab3bd",
   "metadata": {},
   "outputs": [
    {
     "name": "stderr",
     "output_type": "stream",
     "text": [
      "2025-05-07 11:59:54 - module1 - DEBUG - This is a debug message from module1\n",
      "2025-05-07 11:59:54 - module2 - WARNING - This is an warning message from module2\n",
      "2025-05-07 11:59:54 - module2 - ERROR - This is an error message from module2\n"
     ]
    }
   ],
   "source": [
    "## log messages with different loggers\n",
    "logger1.debug('This is a debug message from module1')\n",
    "logger2.warning('This is an warning message from module2')\n",
    "logger2.error('This is an error message from module2')"
   ]
  },
  {
   "cell_type": "code",
   "execution_count": null,
   "id": "b07d3430",
   "metadata": {},
   "outputs": [],
   "source": []
  }
 ],
 "metadata": {
  "kernelspec": {
   "display_name": "Python 3",
   "language": "python",
   "name": "python3"
  },
  "language_info": {
   "codemirror_mode": {
    "name": "ipython",
    "version": 3
   },
   "file_extension": ".py",
   "mimetype": "text/x-python",
   "name": "python",
   "nbconvert_exporter": "python",
   "pygments_lexer": "ipython3",
   "version": "3.10.16"
  }
 },
 "nbformat": 4,
 "nbformat_minor": 5
}
