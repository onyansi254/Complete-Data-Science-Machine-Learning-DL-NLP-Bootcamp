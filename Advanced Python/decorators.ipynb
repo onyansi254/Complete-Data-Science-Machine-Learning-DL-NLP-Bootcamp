{
 "cells": [
  {
   "cell_type": "code",
   "execution_count": 2,
   "id": "0af39341",
   "metadata": {},
   "outputs": [],
   "source": [
    "#Decorators are powerful and flexible \n",
    "#tools that allow you to modify the behavior of a function or class.\n",
    "#They are often used in Python to add functionality to existing code in a clean and readable way."
   ]
  },
  {
   "cell_type": "code",
   "execution_count": 3,
   "id": "8b4c91df",
   "metadata": {},
   "outputs": [],
   "source": [
    "### function copy\n",
    "### closures\n",
    "### decorators"
   ]
  },
  {
   "cell_type": "code",
   "execution_count": 4,
   "id": "c7cb6ea6",
   "metadata": {},
   "outputs": [
    {
     "data": {
      "text/plain": [
       "'Welcome to the advanced Python course!'"
      ]
     },
     "execution_count": 4,
     "metadata": {},
     "output_type": "execute_result"
    }
   ],
   "source": [
    "## function copy\n",
    "def welcome():\n",
    "    return \"Welcome to the advanced Python course!\"\n",
    "\n",
    "welcome()"
   ]
  },
  {
   "cell_type": "code",
   "execution_count": 5,
   "id": "982dc0ea",
   "metadata": {},
   "outputs": [
    {
     "data": {
      "text/plain": [
       "'Welcome to the advanced Python course!'"
      ]
     },
     "execution_count": 5,
     "metadata": {},
     "output_type": "execute_result"
    }
   ],
   "source": [
    "wel = welcome\n",
    "\n",
    "wel()\n",
    "\n",
    "del welcome\n",
    "\n",
    "wel()"
   ]
  },
  {
   "cell_type": "code",
   "execution_count": 6,
   "id": "0abf7b1b",
   "metadata": {},
   "outputs": [],
   "source": [
    "## closures\n",
    "def main_welcome(msg):\n",
    "    #msg = \"Welcome to the advanced Python course!\"\n",
    "    def sub_welcome():\n",
    "        print(\"Welcome\")\n",
    "        print(msg)\n",
    "        print(\"Please learn this concept properly\")\n",
    "\n",
    "    return sub_welcome()"
   ]
  },
  {
   "cell_type": "code",
   "execution_count": 7,
   "id": "67d2bab5",
   "metadata": {},
   "outputs": [
    {
     "name": "stdout",
     "output_type": "stream",
     "text": [
      "Welcome\n",
      "mlearning\n",
      "Please learn this concept properly\n"
     ]
    }
   ],
   "source": [
    "main_welcome(\"mlearning\")"
   ]
  },
  {
   "cell_type": "code",
   "execution_count": 8,
   "id": "af7c504e",
   "metadata": {},
   "outputs": [],
   "source": [
    "## closures\n",
    "def main_welcome(func, lst):\n",
    "    def sub_welcome():\n",
    "        print(\"Welcome\")\n",
    "        print(func(lst))\n",
    "        #func(\"Welcome evryone to this tutorial\")\n",
    "        print(\"Please learn this concept properly\")\n",
    "\n",
    "    return sub_welcome()"
   ]
  },
  {
   "cell_type": "code",
   "execution_count": 9,
   "id": "fe043fd4",
   "metadata": {},
   "outputs": [
    {
     "name": "stdout",
     "output_type": "stream",
     "text": [
      "Welcome\n",
      "5\n",
      "Please learn this concept properly\n"
     ]
    }
   ],
   "source": [
    "main_welcome(len, [1, 2, 3, 4, 5])"
   ]
  },
  {
   "cell_type": "code",
   "execution_count": 10,
   "id": "eb5e8142",
   "metadata": {},
   "outputs": [],
   "source": [
    "## Decorators\n",
    "def main_welcome(func):\n",
    "    def sub_welcome():\n",
    "        print(\"Welcome\")\n",
    "        func()\n",
    "        print(\"Please learn this concept properly\")\n",
    "\n",
    "    return sub_welcome()"
   ]
  },
  {
   "cell_type": "code",
   "execution_count": 11,
   "id": "78345138",
   "metadata": {},
   "outputs": [
    {
     "name": "stdout",
     "output_type": "stream",
     "text": [
      "Welcome to the advanced Python course! hkhk\n"
     ]
    }
   ],
   "source": [
    "def course_welcome():\n",
    "    print(\"Welcome to the advanced Python course! hkhk\")\n",
    "\n",
    "course_welcome()"
   ]
  },
  {
   "cell_type": "code",
   "execution_count": 12,
   "id": "8dafdf14",
   "metadata": {},
   "outputs": [
    {
     "name": "stdout",
     "output_type": "stream",
     "text": [
      "Welcome\n",
      "Welcome to the advanced Python course! hkhk\n",
      "Please learn this concept properly\n"
     ]
    }
   ],
   "source": [
    "main_welcome(course_welcome)"
   ]
  },
  {
   "cell_type": "code",
   "execution_count": 14,
   "id": "c2907551",
   "metadata": {},
   "outputs": [
    {
     "name": "stdout",
     "output_type": "stream",
     "text": [
      "Welcome\n",
      "Welcome to the advanced Python course! hkhk\n",
      "Please learn this concept properly\n"
     ]
    }
   ],
   "source": [
    "@main_welcome\n",
    "def course_welcome():\n",
    "    print(\"Welcome to the advanced Python course! hkhk\")"
   ]
  },
  {
   "cell_type": "code",
   "execution_count": 15,
   "id": "7f8588ed",
   "metadata": {},
   "outputs": [],
   "source": [
    "# decorator\n",
    "def my_decorator(func):\n",
    "    def wrapper():\n",
    "        print(\"Wow this is how hings goes\")\n",
    "        func()\n",
    "        print(\"Some people are just motherfuckers\")\n",
    "    return wrapper"
   ]
  },
  {
   "cell_type": "code",
   "execution_count": 16,
   "id": "dc17f98f",
   "metadata": {},
   "outputs": [],
   "source": [
    "@my_decorator\n",
    "def say_hello():\n",
    "    print(\"Hello!\")"
   ]
  },
  {
   "cell_type": "code",
   "execution_count": 17,
   "id": "eb34ee66",
   "metadata": {},
   "outputs": [
    {
     "name": "stdout",
     "output_type": "stream",
     "text": [
      "Wow this is how hings goes\n",
      "Hello!\n",
      "Some people are just motherfuckers\n"
     ]
    }
   ],
   "source": [
    "say_hello()"
   ]
  },
  {
   "cell_type": "code",
   "execution_count": 19,
   "id": "74d5eadc",
   "metadata": {},
   "outputs": [],
   "source": [
    "## Decorators with arguments\n",
    "def repeat(n):\n",
    "    def decorator(func):\n",
    "        def wrapper(*args, **kwargs):\n",
    "            for _ in range(n):\n",
    "                func(*args, **kwargs)\n",
    "        return wrapper\n",
    "    return decorator"
   ]
  },
  {
   "cell_type": "code",
   "execution_count": 20,
   "id": "adbb6071",
   "metadata": {},
   "outputs": [],
   "source": [
    "@repeat(3)\n",
    "def say_hello():\n",
    "    print(\"Hello kenya\")"
   ]
  },
  {
   "cell_type": "code",
   "execution_count": 21,
   "id": "5ea6257a",
   "metadata": {},
   "outputs": [
    {
     "name": "stdout",
     "output_type": "stream",
     "text": [
      "Hello kenya\n",
      "Hello kenya\n",
      "Hello kenya\n"
     ]
    }
   ],
   "source": [
    "say_hello()"
   ]
  },
  {
   "cell_type": "code",
   "execution_count": null,
   "id": "48e4868c",
   "metadata": {},
   "outputs": [],
   "source": []
  }
 ],
 "metadata": {
  "kernelspec": {
   "display_name": "Python 3",
   "language": "python",
   "name": "python3"
  },
  "language_info": {
   "codemirror_mode": {
    "name": "ipython",
    "version": 3
   },
   "file_extension": ".py",
   "mimetype": "text/x-python",
   "name": "python",
   "nbconvert_exporter": "python",
   "pygments_lexer": "ipython3",
   "version": "3.10.16"
  }
 },
 "nbformat": 4,
 "nbformat_minor": 5
}
