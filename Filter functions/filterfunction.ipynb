{
 "cells": [
  {
   "cell_type": "markdown",
   "id": "d3432b60",
   "metadata": {},
   "source": [
    "the filter() function constructs an iterator from elements of an iterable for which a function returns true. It is used to filter out items from a list(or any iterable) based on a condition."
   ]
  },
  {
   "cell_type": "code",
   "execution_count": 1,
   "id": "d05cab69",
   "metadata": {},
   "outputs": [],
   "source": [
    "def even(num):\n",
    "    return num % 2 == 0"
   ]
  },
  {
   "cell_type": "code",
   "execution_count": 2,
   "id": "91efb363",
   "metadata": {},
   "outputs": [
    {
     "data": {
      "text/plain": [
       "True"
      ]
     },
     "execution_count": 2,
     "metadata": {},
     "output_type": "execute_result"
    }
   ],
   "source": [
    "even(24)"
   ]
  },
  {
   "cell_type": "code",
   "execution_count": 3,
   "id": "d530df41",
   "metadata": {},
   "outputs": [
    {
     "data": {
      "text/plain": [
       "[2, 4, 6, 8, 10]"
      ]
     },
     "execution_count": 3,
     "metadata": {},
     "output_type": "execute_result"
    }
   ],
   "source": [
    "lst = [1, 2, 3, 4, 5, 6, 7, 8, 9, 10]\n",
    "\n",
    "filter(even, lst)\n",
    "\n",
    "list(filter(even, lst)) "
   ]
  },
  {
   "cell_type": "code",
   "execution_count": 4,
   "id": "412fda53",
   "metadata": {},
   "outputs": [
    {
     "data": {
      "text/plain": [
       "[6, 7, 8, 9]"
      ]
     },
     "execution_count": 4,
     "metadata": {},
     "output_type": "execute_result"
    }
   ],
   "source": [
    "## FILTER WITH LAMBDA FUNCTION\n",
    "numbers = [1, 2, 3, 4, 5, 6, 7, 8, 9] \n",
    "greater_than_five = list (filter(lambda x: x>5, numbers))\n",
    "greater_than_five"
   ]
  },
  {
   "cell_type": "code",
   "execution_count": 5,
   "id": "3a5cc5ee",
   "metadata": {},
   "outputs": [
    {
     "data": {
      "text/plain": [
       "[6, 8]"
      ]
     },
     "execution_count": 5,
     "metadata": {},
     "output_type": "execute_result"
    }
   ],
   "source": [
    "# fiter with lambda function and multiple conditions\n",
    "numbers = [1, 2, 3, 4, 5, 6, 7, 8, 9] \n",
    "even_and_greater_than_five = list(filter( lambda x:x>5 and x%2==0, numbers))    \n",
    "even_and_greater_than_five"
   ]
  },
  {
   "cell_type": "code",
   "execution_count": 6,
   "id": "6f8e6bf8",
   "metadata": {},
   "outputs": [
    {
     "data": {
      "text/plain": [
       "[{'name': 'Alice', 'age': 30}, {'name': 'David', 'age': 35}]"
      ]
     },
     "execution_count": 6,
     "metadata": {},
     "output_type": "execute_result"
    }
   ],
   "source": [
    "## filter to check if the age is greater than 25 in a dictionary\n",
    "people = [\n",
    "    {'name': 'Alice', 'age': 30},\n",
    "    {'name': 'Bob', 'age': 20},\n",
    "    {'name': 'Charlie', 'age': 25},\n",
    "    {'name': 'David', 'age': 35}\n",
    "]\n",
    "\n",
    "def age_greater_than_25(person):\n",
    "    return person['age'] > 25\n",
    "\n",
    "list(filter(age_greater_than_25, people))"
   ]
  },
  {
   "cell_type": "code",
   "execution_count": null,
   "id": "1abfdf4b",
   "metadata": {},
   "outputs": [],
   "source": []
  }
 ],
 "metadata": {
  "kernelspec": {
   "display_name": "Python 3",
   "language": "python",
   "name": "python3"
  },
  "language_info": {
   "codemirror_mode": {
    "name": "ipython",
    "version": 3
   },
   "file_extension": ".py",
   "mimetype": "text/x-python",
   "name": "python",
   "nbconvert_exporter": "python",
   "pygments_lexer": "ipython3",
   "version": "3.10.16"
  }
 },
 "nbformat": 4,
 "nbformat_minor": 5
}
