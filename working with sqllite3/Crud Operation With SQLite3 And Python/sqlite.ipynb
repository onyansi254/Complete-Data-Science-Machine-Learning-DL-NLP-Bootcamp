{
 "cells": [
  {
   "cell_type": "code",
   "execution_count": 1,
   "id": "18d8bf1d",
   "metadata": {},
   "outputs": [],
   "source": [
    "import sqlite3"
   ]
  },
  {
   "cell_type": "code",
   "execution_count": 2,
   "id": "b661153f",
   "metadata": {},
   "outputs": [
    {
     "data": {
      "text/plain": [
       "<sqlite3.Connection at 0x19acb3c2e40>"
      ]
     },
     "execution_count": 2,
     "metadata": {},
     "output_type": "execute_result"
    }
   ],
   "source": [
    "# connect to database\n",
    "connect = sqlite3.connect(\"isaya.db\")\n",
    "connect"
   ]
  },
  {
   "cell_type": "code",
   "execution_count": 3,
   "id": "127ea5ee",
   "metadata": {},
   "outputs": [],
   "source": [
    "#create a cursor- cursor is a object which is used to execute sql commands\n",
    "\n",
    "cursor = connect.cursor()"
   ]
  },
  {
   "cell_type": "code",
   "execution_count": 4,
   "id": "8b4e0297",
   "metadata": {},
   "outputs": [],
   "source": [
    "## create a table\n",
    "cursor.execute('''\n",
    "Create Table If Not Exists Diary(\n",
    "    id Integer primary key,\n",
    "    name Text Not Null,\n",
    "    age Integer,\n",
    "    date Date,\n",
    "    venue Text,\n",
    "    event Text\n",
    "    )\n",
    "''')\n",
    "\n",
    "## commit the changes\n",
    "connect.commit()"
   ]
  },
  {
   "cell_type": "code",
   "execution_count": 5,
   "id": "136c82e0",
   "metadata": {},
   "outputs": [
    {
     "data": {
      "text/plain": [
       "<sqlite3.Cursor at 0x19acb570f40>"
      ]
     },
     "execution_count": 5,
     "metadata": {},
     "output_type": "execute_result"
    }
   ],
   "source": [
    "cursor.execute('''\n",
    "Select * from Diary\n",
    "''')"
   ]
  },
  {
   "cell_type": "code",
   "execution_count": 6,
   "id": "07f11358",
   "metadata": {},
   "outputs": [],
   "source": [
    "## Insert the data into the table\n",
    "cursor.execute('''\n",
    "Insert INTO Diary (name,age,date,venue,event)\n",
    "VALUES ('Raj','25','2021-01-01','Noida','Python')\n",
    "''')\n",
    "\n",
    "cursor.execute('''\n",
    "Insert INTO Diary (name,age,date,venue,event)\n",
    "VALUES ('Rich','22','2021-01-01','Noida','Python')\n",
    "''')\n",
    "\n",
    "cursor.execute('''\n",
    "Insert INTO Diary (name,age,date,venue,event)\n",
    "VALUES ('Otis','22','2021-01-01','Noida','Python')\n",
    "''')\n",
    "\n",
    "cursor.execute('''\n",
    "Insert INTO Diary (name,age,date,venue,event)\n",
    "VALUES ('Isa','23','2021-01-01','Noida','Python')\n",
    "''')\n",
    "\n",
    "## connection.commit() method\n",
    "connect.commit()"
   ]
  },
  {
   "cell_type": "code",
   "execution_count": 8,
   "id": "34527294",
   "metadata": {},
   "outputs": [
    {
     "name": "stdout",
     "output_type": "stream",
     "text": [
      "(1, 'Raj', 25, '2021-01-01', 'Noida', 'Python')\n",
      "(2, 'Rich', 22, '2021-01-01', 'Noida', 'Python')\n",
      "(3, 'Otis', 22, '2021-01-01', 'Noida', 'Python')\n",
      "(4, 'Isa', 23, '2021-01-01', 'Noida', 'Python')\n"
     ]
    }
   ],
   "source": [
    "## query data from the table\n",
    "cursor.execute(\"SELECT * FROM Diary\")\n",
    "rows = cursor.fetchall()\n",
    "\n",
    "for row in rows:\n",
    "    print(row)"
   ]
  },
  {
   "cell_type": "code",
   "execution_count": 9,
   "id": "dcb67518",
   "metadata": {},
   "outputs": [],
   "source": [
    "# update the data\n",
    "cursor.execute('''\n",
    "UPDATE Diary\n",
    "Set age = 23\n",
    "where name = \"Otis\" \n",
    "''')\n",
    "\n",
    "connect.commit()"
   ]
  },
  {
   "cell_type": "code",
   "execution_count": 10,
   "id": "2bb5ae07",
   "metadata": {},
   "outputs": [
    {
     "name": "stdout",
     "output_type": "stream",
     "text": [
      "(1, 'Raj', 25, '2021-01-01', 'Noida', 'Python')\n",
      "(2, 'Rich', 22, '2021-01-01', 'Noida', 'Python')\n",
      "(3, 'Otis', 23, '2021-01-01', 'Noida', 'Python')\n",
      "(4, 'Isa', 23, '2021-01-01', 'Noida', 'Python')\n"
     ]
    }
   ],
   "source": [
    "## query data from the table\n",
    "cursor.execute(\"SELECT * FROM Diary\")\n",
    "rows = cursor.fetchall()\n",
    "\n",
    "for row in rows:\n",
    "    print(row)"
   ]
  },
  {
   "cell_type": "code",
   "execution_count": 11,
   "id": "968d4d2e",
   "metadata": {},
   "outputs": [],
   "source": [
    "# Delete data from the table\n",
    "cursor.execute('''\n",
    "Delete from Diary\n",
    "        where name = \"Raj\"\n",
    "''')\n",
    "\n",
    "connect.commit()\n"
   ]
  },
  {
   "cell_type": "code",
   "execution_count": 12,
   "id": "96f03be3",
   "metadata": {},
   "outputs": [
    {
     "name": "stdout",
     "output_type": "stream",
     "text": [
      "(2, 'Rich', 22, '2021-01-01', 'Noida', 'Python')\n",
      "(3, 'Otis', 23, '2021-01-01', 'Noida', 'Python')\n",
      "(4, 'Isa', 23, '2021-01-01', 'Noida', 'Python')\n"
     ]
    }
   ],
   "source": [
    "## query data from the table\n",
    "cursor.execute(\"SELECT * FROM Diary\")\n",
    "rows = cursor.fetchall()\n",
    "\n",
    "for row in rows:\n",
    "    print(row)"
   ]
  },
  {
   "cell_type": "code",
   "execution_count": 13,
   "id": "50185ce6",
   "metadata": {},
   "outputs": [],
   "source": [
    "connect.close()"
   ]
  },
  {
   "cell_type": "code",
   "execution_count": null,
   "id": "99dc8579",
   "metadata": {},
   "outputs": [],
   "source": []
  }
 ],
 "metadata": {
  "kernelspec": {
   "display_name": "Python 3",
   "language": "python",
   "name": "python3"
  },
  "language_info": {
   "codemirror_mode": {
    "name": "ipython",
    "version": 3
   },
   "file_extension": ".py",
   "mimetype": "text/x-python",
   "name": "python",
   "nbconvert_exporter": "python",
   "pygments_lexer": "ipython3",
   "version": "3.10.16"
  }
 },
 "nbformat": 4,
 "nbformat_minor": 5
}
