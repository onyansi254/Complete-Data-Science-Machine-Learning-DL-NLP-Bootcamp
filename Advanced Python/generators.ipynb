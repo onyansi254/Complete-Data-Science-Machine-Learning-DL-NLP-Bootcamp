{
 "cells": [
  {
   "cell_type": "code",
   "execution_count": 1,
   "id": "f6d834d0",
   "metadata": {},
   "outputs": [],
   "source": [
    "#Generators are simple wy to create iterators\n",
    "#they use the yield keyword to produce a series of values lazily,which means they generate values on the fly and do not store them in memory.\n",
    "#This is useful when dealing with large datasets or infinite sequences, as it allows for more efficient memory usage and faster execution times.\n"
   ]
  },
  {
   "cell_type": "code",
   "execution_count": 2,
   "id": "2cfc4dbb",
   "metadata": {},
   "outputs": [],
   "source": [
    "def square(n):\n",
    "    for i in range(3):\n",
    "        return i**2"
   ]
  },
  {
   "cell_type": "code",
   "execution_count": 3,
   "id": "72aa7802",
   "metadata": {},
   "outputs": [
    {
     "data": {
      "text/plain": [
       "0"
      ]
     },
     "execution_count": 3,
     "metadata": {},
     "output_type": "execute_result"
    }
   ],
   "source": [
    "square(3)"
   ]
  },
  {
   "cell_type": "code",
   "execution_count": 4,
   "id": "b1ccc2e8",
   "metadata": {},
   "outputs": [],
   "source": [
    "def square(n):\n",
    "    for i in range(3):\n",
    "        yield i**2"
   ]
  },
  {
   "cell_type": "code",
   "execution_count": 5,
   "id": "7e036567",
   "metadata": {},
   "outputs": [
    {
     "data": {
      "text/plain": [
       "<generator object square at 0x0000018F81263840>"
      ]
     },
     "execution_count": 5,
     "metadata": {},
     "output_type": "execute_result"
    }
   ],
   "source": [
    "square(3)"
   ]
  },
  {
   "cell_type": "code",
   "execution_count": 6,
   "id": "9f0cba41",
   "metadata": {},
   "outputs": [
    {
     "name": "stdout",
     "output_type": "stream",
     "text": [
      "0\n",
      "1\n",
      "4\n"
     ]
    }
   ],
   "source": [
    "for i in square(3):\n",
    "    print(i)"
   ]
  },
  {
   "cell_type": "code",
   "execution_count": 13,
   "id": "a0ee0b8e",
   "metadata": {},
   "outputs": [
    {
     "data": {
      "text/plain": [
       "<generator object square at 0x0000018F82790040>"
      ]
     },
     "execution_count": 13,
     "metadata": {},
     "output_type": "execute_result"
    }
   ],
   "source": [
    "a = square(3)\n",
    "a"
   ]
  },
  {
   "cell_type": "code",
   "execution_count": 16,
   "id": "d2d9cf9e",
   "metadata": {},
   "outputs": [
    {
     "data": {
      "text/plain": [
       "4"
      ]
     },
     "execution_count": 16,
     "metadata": {},
     "output_type": "execute_result"
    }
   ],
   "source": [
    "next(a)"
   ]
  },
  {
   "cell_type": "code",
   "execution_count": 17,
   "id": "c5c84fe9",
   "metadata": {},
   "outputs": [],
   "source": [
    "def my_generator():\n",
    "    yield 1\n",
    "    yield 2\n",
    "    yield 3"
   ]
  },
  {
   "cell_type": "code",
   "execution_count": 18,
   "id": "058821b4",
   "metadata": {},
   "outputs": [
    {
     "data": {
      "text/plain": [
       "<generator object my_generator at 0x0000018F827923B0>"
      ]
     },
     "execution_count": 18,
     "metadata": {},
     "output_type": "execute_result"
    }
   ],
   "source": [
    "gen = my_generator()\n",
    "gen"
   ]
  },
  {
   "cell_type": "code",
   "execution_count": 21,
   "id": "69800f3b",
   "metadata": {},
   "outputs": [
    {
     "data": {
      "text/plain": [
       "3"
      ]
     },
     "execution_count": 21,
     "metadata": {},
     "output_type": "execute_result"
    }
   ],
   "source": [
    "next(gen)"
   ]
  },
  {
   "cell_type": "code",
   "execution_count": 23,
   "id": "c399e77c",
   "metadata": {},
   "outputs": [],
   "source": [
    "for val in gen:\n",
    "    print(val)"
   ]
  },
  {
   "cell_type": "code",
   "execution_count": 24,
   "id": "20313a5c",
   "metadata": {},
   "outputs": [],
   "source": [
    "### Practical exapmle: Reading a large files\n",
    "\n",
    "def read_large_file(file_path):\n",
    "    with open(file_path, 'r') as file:\n",
    "        for line in file:\n",
    "            yield line.strip()  # Yield each line without newline characters"
   ]
  },
  {
   "cell_type": "code",
   "execution_count": 25,
   "id": "61773c1c",
   "metadata": {},
   "outputs": [
    {
     "name": "stdout",
     "output_type": "stream",
     "text": [
      "## About Me - Richard Otwoma\n",
      "\n",
      "### Chapter 1: A Curious Mind from East Africa\n",
      "I’m Richard Otwoma, a data scientist and aspiring environmental technologist from Kenya. Growing up surrounded by the natural beauty of East Africa sparked my early fascination with nature and technology. This curiosity grew into a deep desire to understand the world through data and to use that understanding to create meaningful change—especially in areas that impact communities and the environment.\n",
      "\n",
      "### Chapter 2: Learning Through Data\n",
      "My educational path has been shaped by a drive to explore how data can be used for problem-solving. Through the KCB Foundation, I earned a certification in Data Science, equipping me with practical skills in Python, pandas, scikit-learn, and NLTK. I’ve complemented this with intermediate SQL training as part of a data engineering program, allowing me to manage and analyze datasets with confidence.\n",
      "\n",
      "### Chapter 3: Data-Driven Projects for Real-World Impact\n",
      "My portfolio is built on applying data science to solve relevant challenges. Notable projects include:\n",
      "- **Student Exam Performance Prediction**\n",
      "- **Stock Sentiment Prediction System**\n",
      "- **Medicine Recommendation System**\n",
      "- **Wildfire Prediction Challenge** ([GitHub](https://github.com/onyansi254/WildfirePredictionChallenge))\n",
      "\n",
      "In these projects, I used machine learning and analytics to uncover patterns and support decision-making. The wildfire project especially inspired me to explore the intersection of environmental science and data.\n",
      "\n",
      "### Chapter 4: From Code to Conservation\n",
      "In 2024, I contributed to a data challenge with FreeBorn Inc. to identify the most suitable African city for a new headquarters. I analyzed air quality, sustainability, and cost-of-living data from Uganda, Kenya, Nigeria, and Burundi. This involved data cleaning, spatial analysis, and visual storytelling using tools like Google Sheets and Google Slides.\n",
      "\n",
      "This project reinforced how data can guide policy, highlight environmental inequities, and support sustainable urban development—values closely aligned with the goals of the National Geographic + Nature Conservancy Externship.\n",
      "\n",
      "### Chapter 5: Skills That Serve the Planet\n",
      "Beyond data science, I have experience in:\n",
      "- **Front-end and Back-end Development** – creating web apps with HTML/CSS, Node.js, and MySQL\n",
      "- **Mapping and Geolocation Projects** – building a Django app that collects IP-based location data\n",
      "- **Retrieval-Augmented Generation (RAG)** – integrating LLMs and web scraping to retrieve contextual information\n",
      "\n",
      "These skills are not only technical—they’re tools I hope to apply in conservation, environmental mapping, and community-focused projects.\n",
      "\n",
      "Chapter 6: Values and Vision\n",
      "I believe that technology should be a force for good. Whether it’s visualizing deforestation patterns or mapping underserved regions, I’m committed to using data to uplift both people and the planet. I’ve applied to initiatives like:\n",
      "- DLT Talents Program – to understand decentralized tech for transparency in climate action\n",
      "- Circular Economy Journey Nairobi – to address waste through innovation\n",
      "\n",
      "These experiences reflect my growing commitment to sustainability, impact-driven design, and ethical tech.\n",
      "\n",
      "Chapter 7: Looking Ahead\n",
      "My goals include:\n",
      "- Becoming a leader in environmental data visualization and mapping\n",
      "- Using AI to monitor biodiversity, pollution, and urban sustainability\n",
      "- Collaborating with global teams on projects that merge conservation and technology\n",
      "\n",
      "I see the National Geographic + Nature Conservancy Externship as a stepping stone to contribute meaningfully, learn from experienced mentors, and grow as a conservation technologist.\n",
      "\n",
      "---\n",
      "\n",
      "GitHub: [onyansi254](https://github.com/onyansi254)\n",
      "LinkedIn: [Richard Otwoma](https://www.linkedin.com/in/richard-otwoma-1b0145292/)\n",
      "Email: ronyansi11@gmail.com\n",
      "\n",
      "I’m excited to bring my technical skills, global perspective, and purpose-driven mindset to this opportunity—and to contribute to the important mission of protecting our natural world through innovation and insight.\n",
      "\n"
     ]
    }
   ],
   "source": [
    "file_path = 'large.txt'  # Replace with your file path\n",
    "\n",
    "for line in read_large_file(file_path):\n",
    "    print(line.strip())  # Process each line as needed"
   ]
  },
  {
   "cell_type": "code",
   "execution_count": null,
   "id": "e13ae86a",
   "metadata": {},
   "outputs": [],
   "source": []
  }
 ],
 "metadata": {
  "kernelspec": {
   "display_name": "Python 3",
   "language": "python",
   "name": "python3"
  },
  "language_info": {
   "codemirror_mode": {
    "name": "ipython",
    "version": 3
   },
   "file_extension": ".py",
   "mimetype": "text/x-python",
   "name": "python",
   "nbconvert_exporter": "python",
   "pygments_lexer": "ipython3",
   "version": "3.10.16"
  }
 },
 "nbformat": 4,
 "nbformat_minor": 5
}
