{
 "cells": [
  {
   "cell_type": "code",
   "execution_count": 1,
   "id": "bb11a883",
   "metadata": {},
   "outputs": [
    {
     "name": "stdout",
     "output_type": "stream",
     "text": [
      "array('i', [1, 2, 3, 4])\n"
     ]
    }
   ],
   "source": [
    "import array\n",
    "\n",
    "arr = array.array('i', [1, 2, 3, 4])\n",
    "print(arr)  "
   ]
  },
  {
   "cell_type": "code",
   "execution_count": 5,
   "id": "534976d7",
   "metadata": {},
   "outputs": [
    {
     "name": "stdout",
     "output_type": "stream",
     "text": [
      "4.0\n",
      "3.141592653589793\n"
     ]
    }
   ],
   "source": [
    "import math\n",
    "print(math.sqrt(16))\n",
    "print(math.pi)  "
   ]
  },
  {
   "cell_type": "code",
   "execution_count": 7,
   "id": "0b55dec7",
   "metadata": {},
   "outputs": [
    {
     "name": "stdout",
     "output_type": "stream",
     "text": [
      "2\n",
      "apple\n"
     ]
    }
   ],
   "source": [
    "## random\n",
    "\n",
    "import random\n",
    "print(random.randint(1, 10))\n",
    "\n",
    "print(random.choice(['apple', 'banana', 'cherry']))"
   ]
  },
  {
   "cell_type": "code",
   "execution_count": 8,
   "id": "030c4fec",
   "metadata": {},
   "outputs": [
    {
     "name": "stdout",
     "output_type": "stream",
     "text": [
      "e:\\Complete-Data-Science-Machine-Learning-DL-NLP-Bootcamp\\std Library\n"
     ]
    }
   ],
   "source": [
    "# file and directory access\n",
    "\n",
    "import os\n",
    "print(os.getcwd())  # Get current working directory"
   ]
  },
  {
   "cell_type": "code",
   "execution_count": 9,
   "id": "0b540911",
   "metadata": {},
   "outputs": [],
   "source": [
    "os.mkdir('test_dir')  # Create a new directory"
   ]
  },
  {
   "cell_type": "code",
   "execution_count": 11,
   "id": "4c0f4f18",
   "metadata": {},
   "outputs": [
    {
     "data": {
      "text/plain": [
       "'destination.txt'"
      ]
     },
     "execution_count": 11,
     "metadata": {},
     "output_type": "execute_result"
    }
   ],
   "source": [
    "## high level operations on files and collection of files\n",
    "import shutil\n",
    "\n",
    "shutil.copyfile('source.txt', 'destination.txt')"
   ]
  },
  {
   "cell_type": "code",
   "execution_count": 12,
   "id": "0dbedd11",
   "metadata": {},
   "outputs": [
    {
     "name": "stdout",
     "output_type": "stream",
     "text": [
      "{\"name\": \"Richard\", \"age\": 25}\n",
      "<class 'str'>\n",
      "{'name': 'Richard', 'age': 25}\n",
      "<class 'dict'>\n"
     ]
    }
   ],
   "source": [
    "## Data Serialization\n",
    "import json\n",
    "\n",
    "data = {'name': 'Richard', 'age': 25}\n",
    "\n",
    "json_str = json.dumps(data) # Convert Python object to JSON string\n",
    "\n",
    "print(json_str)  # Print JSON string\n",
    "\n",
    "print(type(json_str))  # Print type of JSON string\n",
    "\n",
    "parsed_data = json.loads(json_str) # Convert JSON string back to Python object\n",
    "\n",
    "print(parsed_data)  # Print parsed data\n",
    "print(type(parsed_data))  # Print type of parsed data\n"
   ]
  },
  {
   "cell_type": "code",
   "execution_count": 15,
   "id": "e7044b0a",
   "metadata": {},
   "outputs": [
    {
     "name": "stdout",
     "output_type": "stream",
     "text": [
      "['Name', 'Age']\n",
      "['Alice', '30']\n"
     ]
    }
   ],
   "source": [
    "# csv\n",
    "import csv  \n",
    "\n",
    "with open('example.csv', mode='w', newline='') as file:\n",
    "    write = csv.writer(file)\n",
    "    write.writerow(['Name', 'Age'])\n",
    "    write.writerow(['Alice', 30])\n",
    "\n",
    "with open('example.csv', mode='r') as file:\n",
    "    reader = csv.reader(file)\n",
    "    for row in reader:\n",
    "        print(row)  # Print each row of the CSV file"
   ]
  },
  {
   "cell_type": "code",
   "execution_count": 16,
   "id": "6ebca147",
   "metadata": {},
   "outputs": [
    {
     "name": "stdout",
     "output_type": "stream",
     "text": [
      "2025-04-16 07:53:06.188909\n",
      "2025-04-15 07:53:06.188909\n"
     ]
    }
   ],
   "source": [
    "## datetime\n",
    "\n",
    "from datetime import datetime,timedelta\n",
    "\n",
    "now = datetime.now()  # Get current date and time\n",
    "print(now)  # Print current date and time\n",
    "\n",
    "yesterday = now - timedelta(days = 1)  # Get yesterday's date\n",
    "print(yesterday)  # Print yesterday's date  "
   ]
  },
  {
   "cell_type": "code",
   "execution_count": 17,
   "id": "0b13a31d",
   "metadata": {},
   "outputs": [
    {
     "name": "stdout",
     "output_type": "stream",
     "text": [
      "1744779288.8520708\n",
      "1744779290.8683503\n"
     ]
    }
   ],
   "source": [
    "# time\n",
    "import time\n",
    "\n",
    "print(time.time()) # Print current time in seconds since epoch\n",
    "time.sleep(2)  # Sleep for 2 seconds\n",
    "print(time.time())  # Print current time in seconds since epoch after sleep \n"
   ]
  },
  {
   "cell_type": "code",
   "execution_count": 18,
   "id": "8d940225",
   "metadata": {},
   "outputs": [
    {
     "name": "stdout",
     "output_type": "stream",
     "text": [
      "123\n"
     ]
    }
   ],
   "source": [
    "## regular expression\n",
    "\n",
    "import re\n",
    "pattern = r'\\d+'  # Regular expression pattern to match digits\n",
    "text = 'There are 123 apples.'\n",
    "match = re.search(pattern, text)  # Search for the pattern in the text\n",
    "print(match.group())  # Print the matched digits"
   ]
  },
  {
   "cell_type": "code",
   "execution_count": null,
   "id": "dcd01068",
   "metadata": {},
   "outputs": [],
   "source": []
  }
 ],
 "metadata": {
  "kernelspec": {
   "display_name": "Python 3",
   "language": "python",
   "name": "python3"
  },
  "language_info": {
   "codemirror_mode": {
    "name": "ipython",
    "version": 3
   },
   "file_extension": ".py",
   "mimetype": "text/x-python",
   "name": "python",
   "nbconvert_exporter": "python",
   "pygments_lexer": "ipython3",
   "version": "3.10.16"
  }
 },
 "nbformat": 4,
 "nbformat_minor": 5
}
