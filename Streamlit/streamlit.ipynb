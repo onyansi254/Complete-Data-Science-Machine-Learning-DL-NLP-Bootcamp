{
 "cells": [
  {
   "cell_type": "markdown",
   "id": "56dd3680",
   "metadata": {},
   "source": [
    "Introductiopn to streamlit"
   ]
  },
  {
   "cell_type": "code",
   "execution_count": null,
   "id": "86f0f527",
   "metadata": {},
   "outputs": [],
   "source": [
    "# streamlit is an open source app "
   ]
  },
  {
   "cell_type": "markdown",
   "id": "0378ab26",
   "metadata": {},
   "source": [
    "**Streamlit** is an open-source Python framework used for quickly building and sharing **web apps** for **data science**, **machine learning**, and **AI projects**. It allows you to turn Python scripts into interactive dashboards and tools without needing deep knowledge of web development (like HTML, CSS, or JavaScript).\n",
    "\n",
    "---\n",
    "\n",
    "### ✅ Key Features:\n",
    "\n",
    "* **Fast Development:** Write Python, add widgets, run your app.\n",
    "* **Interactive Widgets:** Buttons, sliders, file uploaders, date pickers, etc.\n",
    "* **Seamless Data Display:** Easily display Pandas DataFrames, charts, maps, etc.\n",
    "* **Hot Reloading:** Changes update automatically.\n",
    "* **Markdown & LaTeX Support:** Add text, headings, math formulas, etc.\n",
    "* **Custom Components:** Integrate advanced JS/React components.\n",
    "\n",
    "---\n",
    "\n",
    "### ✅ Common Use Cases:\n",
    "\n",
    "* Data analysis dashboards\n",
    "* ML model demos\n",
    "* Monitoring dashboards\n",
    "* Internal tools\n",
    "* Report automation\n",
    "\n",
    "---\n",
    "\n",
    "### ✅ Example:\n",
    "\n",
    "```python\n",
    "import streamlit as st\n",
    "import pandas as pd\n",
    "\n",
    "st.title(\"Simple Data Viewer\")\n",
    "\n",
    "data = pd.DataFrame({\n",
    "    'Name': ['Alice', 'Bob', 'Charlie'],\n",
    "    'Age': [25, 30, 35],\n",
    "    'City': ['Nairobi', 'Mombasa', 'Kisumu']\n",
    "})\n",
    "\n",
    "st.write(\"Here's some sample data:\")\n",
    "st.dataframe(data)\n",
    "\n",
    "age = st.slider(\"Select minimum age\", 0, 40, 25)\n",
    "filtered_data = data[data['Age'] >= age]\n",
    "\n",
    "st.write(\"Filtered Data:\")\n",
    "st.dataframe(filtered_data)\n",
    "```\n",
    "\n",
    "---\n",
    "\n",
    "### ✅ To Run:\n",
    "\n",
    "1. Save code in `app.py`.\n",
    "2. In terminal:\n",
    "\n",
    "```bash\n",
    "streamlit run app.py\n",
    "```\n",
    "\n",
    "---\n",
    "\n",
    "### ✅ Installation:\n",
    "\n",
    "```bash\n",
    "pip install streamlit\n",
    "```\n",
    "\n",
    "---\n",
    "\n",
    "If you'd like, I can help you:\n",
    "\n",
    "* Set up your first project\n",
    "* Build a mini app\n",
    "* Deploy to the web\n",
    "\n",
    "Would you like help with a **project idea** or **specific code example**?\n"
   ]
  },
  {
   "cell_type": "code",
   "execution_count": null,
   "id": "3612ddd0",
   "metadata": {},
   "outputs": [],
   "source": []
  }
 ],
 "metadata": {
  "kernelspec": {
   "display_name": "Python 3",
   "language": "python",
   "name": "python3"
  },
  "language_info": {
   "name": "python",
   "version": "3.10.16"
  }
 },
 "nbformat": 4,
 "nbformat_minor": 5
}
