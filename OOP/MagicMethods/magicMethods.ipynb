{
 "cells": [
  {
   "cell_type": "code",
   "execution_count": null,
   "id": "99cc83bd",
   "metadata": {},
   "outputs": [],
   "source": [
    "## Magic methods is also called double underscore methods or dunder methods\n",
    "# Magic methods are special methods that have double underscores at the beginning and end of their names.\n",
    "# These methods enable you to define behaviour of objects for built-in operations i.e. arithmetic operations, comparisons, type conversion etc."
   ]
  },
  {
   "cell_type": "code",
   "execution_count": 1,
   "id": "73028e5f",
   "metadata": {},
   "outputs": [],
   "source": [
    "## Magic METHODS\n",
    "#They are predefined methods in python that you can override to change the behaviour of your objects.\n",
    " "
   ]
  },
  {
   "cell_type": "code",
   "execution_count": 2,
   "metadata": {},
   "outputs": [],
   "source": [
    "#some common include\n",
    "#  '__init__' : Initializes a new instance of a class\n",
    "#'__str__' : returns a string representation of the object\n",
    "#'__repr__' : returns a string representation of the object that can be used to recreate the object\n",
    "\n",
    "#'__add__' : defines the behaviour of the addition operator (+)\n",
    "#'__sub__' : defines the behaviour of the subtraction operator (-)\n",
    "#'__mul__' : defines the behaviour of the multiplication operator (*)\n",
    "#'__truediv__' : defines the behaviour of the division operator (/)\n",
    "#'__floordiv__' : defines the behaviour of the floor division operator (//)\n",
    "#'__mod__' : defines the behaviour of the modulus operator (%)\n",
    "#'__pow__' : defines the behaviour of the exponentiation operator (**)\n",
    "#'__lt__' : defines the behaviour of the less than operator (<)\n",
    "\n",
    "#'__le__' : defines the behaviour of the less than or equal to operator (<=)\n",
    "#'__eq__' : defines the behaviour of the equal to operator (==)\n",
    "#'__ne__' : defines the behaviour of the not equal to operator (!=)\n",
    "#'__gt__' : defines the behaviour of the greater than operator (>)\n",
    "        "
   ]
  },
  {
   "cell_type": "code",
   "execution_count": 3,
   "id": "3fb17d80",
   "metadata": {},
   "outputs": [
    {
     "name": "stdout",
     "output_type": "stream",
     "text": [
      "Alice is 30 years old.\n",
      "Person(Alice, 30)\n"
     ]
    }
   ],
   "source": [
    "# Basic example of magic methods\n",
    "class Person:\n",
    "    def __init__(self, name, age):\n",
    "        self.name = name\n",
    "        self.age = age\n",
    "\n",
    "    def __str__(self):\n",
    "        return f\"{self.name} is {self.age} years old.\"\n",
    "\n",
    "    def __repr__(self):\n",
    "        return f\"Person({self.name}, {self.age})\"\n",
    "\n",
    "person = Person(\"Alice\", 30)\n",
    "print(person)  # Output: Alice is 30 years old.\n",
    "\n",
    "print(repr(person))  # Output: Person(Alice, 30)"
   ]
  },
  {
   "cell_type": "code",
   "execution_count": null,
   "id": "c6cef59b",
   "metadata": {},
   "outputs": [],
   "source": []
  }
 ],
 "metadata": {
  "kernelspec": {
   "display_name": "Python 3",
   "language": "python",
   "name": "python3"
  },
  "language_info": {
   "codemirror_mode": {
    "name": "ipython",
    "version": 3
   },
   "file_extension": ".py",
   "mimetype": "text/x-python",
   "name": "python",
   "nbconvert_exporter": "python",
   "pygments_lexer": "ipython3",
   "version": "3.10.16"
  }
 },
 "nbformat": 4,
 "nbformat_minor": 5
}
