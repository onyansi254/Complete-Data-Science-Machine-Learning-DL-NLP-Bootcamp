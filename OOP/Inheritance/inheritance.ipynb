{
 "cells": [
  {
   "cell_type": "code",
   "execution_count": 4,
   "id": "61425f1a",
   "metadata": {},
   "outputs": [],
   "source": [
    "## inheritance allows a class to inherit attributes and methods from another class\n",
    "# This allows for code reusability and a hierarchical class structure\n",
    "\n",
    "class Car:\n",
    "    def __init__(self,windows,doors,enginetype):\n",
    "        self.doors = doors\n",
    "        self.windows = windows\n",
    "        self.enginetype = enginetype\n",
    "\n",
    "    def drive(self):\n",
    "        print(f\"The person will drive the {self.enginetype} car\")\n",
    "        "
   ]
  },
  {
   "cell_type": "code",
   "execution_count": 5,
   "id": "3ad54b35",
   "metadata": {},
   "outputs": [
    {
     "name": "stdout",
     "output_type": "stream",
     "text": [
      "The person will drive the petrol car\n"
     ]
    }
   ],
   "source": [
    "car1 = Car(4, 4, \"petrol\")\n",
    "car1.drive()"
   ]
  },
  {
   "cell_type": "code",
   "execution_count": 6,
   "id": "3d5a438c",
   "metadata": {},
   "outputs": [],
   "source": [
    "class Tesla(Car):\n",
    "    def __init__(self,windows,doors,enginetype, is_self_driving):\n",
    "        # creating  attributes for the child class\n",
    "        # super() allows us to call the parent class constructor\n",
    "        super().__init__(windows,doors,enginetype)\n",
    "        self.is_self_driving = is_self_driving\n",
    "\n",
    "    def selfdriving(self):\n",
    "        print(f\"Tesla supports self driving: {self.is_self_driving}\")"
   ]
  },
  {
   "cell_type": "code",
   "execution_count": 8,
   "id": "6db32422",
   "metadata": {},
   "outputs": [
    {
     "name": "stdout",
     "output_type": "stream",
     "text": [
      "Tesla supports self driving: True\n"
     ]
    }
   ],
   "source": [
    "tesla1 = Tesla(4, 4, \"electric\", True)\n",
    "tesla1.selfdriving()"
   ]
  },
  {
   "cell_type": "code",
   "execution_count": null,
   "id": "f917c21a",
   "metadata": {},
   "outputs": [
    {
     "name": "stdout",
     "output_type": "stream",
     "text": [
      "Buddy says Woof!\n",
      "Owner of the dog is Richard\n"
     ]
    }
   ],
   "source": [
    "### Multiple Inheritance\n",
    "## When a class inherits from more than one class, it is called multiple inheritance.\n",
    "# Base class1(Animal) - is used to create a subclass \n",
    "class Animal:\n",
    "    def __init__(self,name):\n",
    "        self.name = name\n",
    "\n",
    "    def speak(self):\n",
    "        print(\"Subclass must implement this method\")\n",
    "\n",
    "\n",
    "# Base class2(Pet) \n",
    "class pet:\n",
    "    def __init__(self, owner):\n",
    "        self.owner = owner\n",
    "\n",
    "## Derived class (Dog) - inherits from both Animal and Pet classes\n",
    "class Dog(Animal , pet):\n",
    "    def __init__(self, name, owner):\n",
    "        # calling the constructor of the parent classes\n",
    "        Animal.__init__(self, name)\n",
    "        pet.__init__(self, owner)\n",
    "\n",
    "    def speak(self):\n",
    "        return f\"{self.name} says Woof!\"\n",
    "\n",
    "## Create an object\n",
    "dog = Dog(\"Buddy\", \"Richard\")\n",
    "print(dog.speak())  \n",
    "\n",
    "print(f\"Owner of the dog is {dog.owner}\")  "
   ]
  },
  {
   "cell_type": "code",
   "execution_count": null,
   "id": "4f296522",
   "metadata": {},
   "outputs": [],
   "source": []
  }
 ],
 "metadata": {
  "kernelspec": {
   "display_name": "Python 3",
   "language": "python",
   "name": "python3"
  },
  "language_info": {
   "codemirror_mode": {
    "name": "ipython",
    "version": 3
   },
   "file_extension": ".py",
   "mimetype": "text/x-python",
   "name": "python",
   "nbconvert_exporter": "python",
   "pygments_lexer": "ipython3",
   "version": "3.10.16"
  }
 },
 "nbformat": 4,
 "nbformat_minor": 5
}
