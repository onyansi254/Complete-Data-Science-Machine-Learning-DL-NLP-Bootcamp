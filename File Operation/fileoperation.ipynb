{
 "cells": [
  {
   "cell_type": "code",
   "execution_count": 3,
   "id": "44c4444f",
   "metadata": {},
   "outputs": [
    {
     "name": "stdout",
     "output_type": "stream",
     "text": [
      "hello how are you\n",
      "jjghglsajdf\n",
      "dzjrf\n"
     ]
    }
   ],
   "source": [
    "## Read a whole file\n",
    "\n",
    "with open('example.txt', 'r') as file:\n",
    "    content = file.read()\n",
    "    print(content)"
   ]
  },
  {
   "cell_type": "code",
   "execution_count": 4,
   "id": "8ae11eec",
   "metadata": {},
   "outputs": [
    {
     "name": "stdout",
     "output_type": "stream",
     "text": [
      "hello how are you\n",
      "jjghglsajdf\n",
      "dzjrf\n"
     ]
    }
   ],
   "source": [
    "## read a file line by line\n",
    "with open('example.txt', 'r') as file:\n",
    "    for line in file:\n",
    "        print (line.strip()) # strip() removes the newline character at the end of each line"
   ]
  },
  {
   "cell_type": "code",
   "execution_count": 5,
   "id": "33934c46",
   "metadata": {},
   "outputs": [],
   "source": [
    "# writing a file(overwriting)\n",
    "\n",
    "with open('example.txt', 'w') as file:\n",
    "    file.write('Hello World\\n')\n",
    "    file.write('This is a new line.')"
   ]
  },
  {
   "cell_type": "code",
   "execution_count": 9,
   "id": "7ad27f3e",
   "metadata": {},
   "outputs": [],
   "source": [
    "# write a file without overwriting\n",
    "with open('example.txt', 'a') as file:\n",
    "    file.write('\\nThis line is appended.\\n')"
   ]
  },
  {
   "cell_type": "code",
   "execution_count": 10,
   "id": "c5d9f7ea",
   "metadata": {},
   "outputs": [],
   "source": [
    "## writing a list of lines to a file\n",
    "lines = ['Line 1\\n', 'Line 2\\n', 'Line 3\\n']\n",
    "with open('example.txt', 'a') as file:\n",
    "    file.writelines(lines)  "
   ]
  },
  {
   "cell_type": "code",
   "execution_count": 11,
   "id": "4ef8d14f",
   "metadata": {},
   "outputs": [],
   "source": [
    "### Binary Files\n",
    "\n",
    "# write to a binary file\n",
    "data = b'\\x00\\x01\\x02\\x03\\x04\\x05\\x06\\x07\\x08\\x09'\n",
    "with open('example.bin', 'wb') as file:\n",
    "    file.write(data)    "
   ]
  },
  {
   "cell_type": "code",
   "execution_count": 12,
   "id": "dae02499",
   "metadata": {},
   "outputs": [
    {
     "name": "stdout",
     "output_type": "stream",
     "text": [
      "b'\\x00\\x01\\x02\\x03\\x04\\x05\\x06\\x07\\x08\\t'\n"
     ]
    }
   ],
   "source": [
    "# reading a binaary file\n",
    "with open('example.bin', 'rb') as file:\n",
    "    data = file.read()\n",
    "    print(data)  # prints b'\\x00\\x01\\x02\\x03\\x04\\x05\\x06\\x07\\x08\\x09'"
   ]
  },
  {
   "cell_type": "code",
   "execution_count": 1,
   "id": "1d7729e5",
   "metadata": {},
   "outputs": [],
   "source": [
    "### Read the content from the source text file and write destination text file\n",
    "# copying a text file\n",
    "with open('example.txt', 'r') as source_file:\n",
    "    content = source_file.read()\n",
    "\n",
    "with open('destination.txt', 'w') as destination_file:\n",
    "    destination_file.write(content)"
   ]
  },
  {
   "cell_type": "code",
   "execution_count": 2,
   "id": "6da6438e",
   "metadata": {},
   "outputs": [
    {
     "name": "stdout",
     "output_type": "stream",
     "text": [
      "Lines: 7, words: 24, Characters: 121\n"
     ]
    }
   ],
   "source": [
    "# Read a text file and count the number of lines, words, and characters\n",
    "# counting lines, words, and characters in a text file\n",
    "\n",
    "def count_text_file(file_path):\n",
    "    with open(file_path, 'r') as file:\n",
    "        lines = file.readlines()\n",
    "        line_count = len(lines)\n",
    "        word_count = sum(len(line.split()) for line in lines)\n",
    "        char_count = sum(len(line) for line in lines)\n",
    "    return line_count, word_count, char_count\n",
    "\n",
    "file_path = 'example.txt'\n",
    "lines, words, characters = count_text_file(file_path)\n",
    "print(f'Lines: {lines}, words: {words}, Characters: {characters}')"
   ]
  },
  {
   "cell_type": "markdown",
   "id": "7ffe4fb0",
   "metadata": {},
   "source": [
    "The w+ mode in python is used to open a file for both rading and writing. If thevfile does not exist, it will be created. If the file exists, its content is truncated(i.e., the file is overwritten)."
   ]
  },
  {
   "cell_type": "code",
   "execution_count": 5,
   "id": "6ab808cc",
   "metadata": {},
   "outputs": [
    {
     "name": "stdout",
     "output_type": "stream",
     "text": [
      "Hello world\n",
      "This is s new lin. \n",
      "\n"
     ]
    }
   ],
   "source": [
    "### Writing and then reading a file\n",
    "\n",
    "with open('example.txt', 'w+') as file:\n",
    "    file.write(\"Hello world\\n\")\n",
    "    file.write(\"This is s new lin. \\n\")\n",
    "\n",
    "    file.seek(0)\n",
    "    content = file.read()\n",
    "    print(content)"
   ]
  },
  {
   "cell_type": "code",
   "execution_count": null,
   "id": "7ab2840c",
   "metadata": {},
   "outputs": [],
   "source": []
  }
 ],
 "metadata": {
  "kernelspec": {
   "display_name": "Python 3",
   "language": "python",
   "name": "python3"
  },
  "language_info": {
   "codemirror_mode": {
    "name": "ipython",
    "version": 3
   },
   "file_extension": ".py",
   "mimetype": "text/x-python",
   "name": "python",
   "nbconvert_exporter": "python",
   "pygments_lexer": "ipython3",
   "version": "3.10.16"
  }
 },
 "nbformat": 4,
 "nbformat_minor": 5
}
