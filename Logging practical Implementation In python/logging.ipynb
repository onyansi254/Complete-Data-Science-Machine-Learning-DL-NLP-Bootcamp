{
 "cells": [
  {
   "cell_type": "code",
   "execution_count": 6,
   "id": "b09f604e",
   "metadata": {},
   "outputs": [],
   "source": [
    "#Logging in python is a crucial aspect of any appliction, providing a way to track events, errors and operational information. Python's built in logging module offers a flexible framework for emmitting log messages from Python programs. It is a powerful tool that can be used to track events that happen when the software runs. The logging module is part of the standard library, so you don't need to install anything extra to use it.\n",
    "#The logging module allows you to log messages at different severity levels, including DEBUG, INFO, WARNING, ERROR, and CRITICAL. You can also configure the logging output to go to different destinations, such as the console or a file.\n",
    "#The logging module provides a simple and flexible API for logging messages. Here's an example of how to use the logging module in Python:\n"
   ]
  },
  {
   "cell_type": "code",
   "execution_count": 7,
   "id": "0abfcf71",
   "metadata": {},
   "outputs": [
    {
     "name": "stderr",
     "output_type": "stream",
     "text": [
      "2025-05-07 10:01:32 - root - DEBUG - This is a debug message\n",
      "2025-05-07 10:01:32 - root - INFO - This is an info message\n",
      "2025-05-07 10:01:32 - root - WARNING - This is a warning message\n",
      "2025-05-07 10:01:32 - root - ERROR - This is an error message\n",
      "2025-05-07 10:01:32 - root - CRITICAL - This is a critical message\n"
     ]
    }
   ],
   "source": [
    "import logging\n",
    "\n",
    "#configure the basic logging settings\n",
    "logging.basicConfig(level=logging.DEBUG)\n",
    "\n",
    "## log messages\n",
    "logging.debug('This is a debug message')\n",
    "logging.info('This is an info message')\n",
    "logging.warning('This is a warning message')\n",
    "logging.error('This is an error message')\n",
    "logging.critical('This is a critical message')"
   ]
  },
  {
   "cell_type": "code",
   "execution_count": 8,
   "id": "102c7293",
   "metadata": {},
   "outputs": [],
   "source": [
    "## Logging levels\n",
    "# 1. DEBUG - Detailed information, typically of interest only when diagnosing problems.\n",
    "# 2. INFO - Confirmation that things are working as expected.\n",
    "# 3. WARNING - An indication that something unexpected happened, or indicative of some problem in the near future (e.g. ‘disk space low’). The software is still working as \n",
    "# 4. ERROR - Due to a more serious problem, the software has not been able to perform some function.\n",
    "# 5. CRITICAL - A serious error, indicating that the program itself may be unable to continue running.r"
   ]
  },
  {
   "cell_type": "code",
   "execution_count": 10,
   "id": "c9bef55f",
   "metadata": {},
   "outputs": [],
   "source": [
    "import logging\n",
    "\n",
    "# configuring logging\n",
    "logging.basicConfig(\n",
    "    filename='app.log',  # log file name\n",
    "    filemode='w',  # write mode(w - write, a - append)\n",
    "    level=logging.DEBUG,\n",
    "    format='%(asctime)s - %(name)s - %(levelname)s - %(message)s',\n",
    "    datefmt='%Y-%m-%d %H:%M:%S',\n",
    "    force=True\n",
    ")\n",
    "\n",
    "# log messages\n",
    "logging.debug('This is a debug message')\n",
    "logging.info('This is an info message')\n",
    "logging.warning('This is a warning message')\n",
    "logging.error('This is an error message')\n",
    "logging.critical('This is a critical message')\n"
   ]
  },
  {
   "cell_type": "code",
   "execution_count": null,
   "id": "bec6a0ca",
   "metadata": {},
   "outputs": [],
   "source": []
  }
 ],
 "metadata": {
  "kernelspec": {
   "display_name": "Python 3",
   "language": "python",
   "name": "python3"
  },
  "language_info": {
   "codemirror_mode": {
    "name": "ipython",
    "version": 3
   },
   "file_extension": ".py",
   "mimetype": "text/x-python",
   "name": "python",
   "nbconvert_exporter": "python",
   "pygments_lexer": "ipython3",
   "version": "3.10.16"
  }
 },
 "nbformat": 4,
 "nbformat_minor": 5
}
