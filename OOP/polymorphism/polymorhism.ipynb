{
 "cells": [
  {
   "cell_type": "code",
   "execution_count": 1,
   "id": "22c5560c",
   "metadata": {},
   "outputs": [],
   "source": [
    "# Polymorphism is a concept in programming that allows objects of different classes to be treated as objects of a common superclass.\n",
    "# It is a key feature of object-oriented programming (OOP) that enables a single interface to represent different underlying forms (data types).\n",
    "\n"
   ]
  },
  {
   "cell_type": "code",
   "execution_count": 2,
   "id": "40333e51",
   "metadata": {},
   "outputs": [],
   "source": [
    "### overriding method\n",
    "# - Method overriding is a feature that allows a subclass or child class to provide a specific implementation of a method that is already defined in its superclass or parent class."
   ]
  },
  {
   "cell_type": "code",
   "execution_count": 4,
   "id": "c7cd35de",
   "metadata": {},
   "outputs": [
    {
     "name": "stdout",
     "output_type": "stream",
     "text": [
      "Woof!\n",
      "Meow!\n",
      "Woof!\n"
     ]
    }
   ],
   "source": [
    "## Base class\n",
    "class Animal:\n",
    "    def speak(self):\n",
    "        return \"Sound of the animal\"\n",
    "\n",
    "#Derived class 1\n",
    "class Dog(Animal):\n",
    "    def speak(self):\n",
    "        return \"Woof!\"\n",
    "\n",
    "#Derived class 2\n",
    "class Cat(Animal):\n",
    "    def speak(self):\n",
    "        return \"Meow!\"\n",
    "\n",
    "# function that demonstartes polymorphism\n",
    "def animal_speak(animal):\n",
    "    print(animal.speak())\n",
    "\n",
    "dog = Dog()\n",
    "cat = Cat()\n",
    "\n",
    "print(dog.speak())  # Output: Woof!\n",
    "print(cat.speak())  # Output: Meow!\n",
    "\n",
    "animal_speak(dog)  # Output: Woof!"
   ]
  },
  {
   "cell_type": "code",
   "execution_count": 6,
   "id": "46ed41b6",
   "metadata": {},
   "outputs": [
    {
     "name": "stdout",
     "output_type": "stream",
     "text": [
      "The area is: 50\n",
      "The area is: 153.86\n"
     ]
    }
   ],
   "source": [
    "## Polymorphism with functions and methods\n",
    "\n",
    "# Base class\n",
    "class Shape:\n",
    "    def area(self):\n",
    "        return \"The area of the figure\"\n",
    "\n",
    "# Derived class 1\n",
    "class Rectangle(Shape):\n",
    "    def __init__(self, width, height):\n",
    "        self.width = width\n",
    "        self.height = height\n",
    "\n",
    "    def area(self):\n",
    "        return self.width * self.height\n",
    "\n",
    "# Derived class 2\n",
    "class Circle(Shape):\n",
    "    def __init__(self, radius):\n",
    "        self.radius = radius\n",
    "\n",
    "    def area(self):\n",
    "        return 3.14 * self.radius ** 2\n",
    "\n",
    "# function that demonstartes polymorphism\n",
    "def print_area(shape):\n",
    "    print(f\"The area is: {shape.area()}\")\n",
    "\n",
    "rectangle = Rectangle(5, 10)\n",
    "circle = Circle(7)\n",
    "\n",
    "print_area(rectangle) \n",
    "print_area(circle)    "
   ]
  },
  {
   "cell_type": "code",
   "execution_count": 2,
   "id": "08620891",
   "metadata": {},
   "outputs": [
    {
     "name": "stdout",
     "output_type": "stream",
     "text": [
      "Car engine started!\n"
     ]
    }
   ],
   "source": [
    "#polymorphism with abstact classes\n",
    "# Abstract base classes (ABCs) are classes that cannot be instantiated and are meant to be subclassed. They can define abstract methods that must be implemented by any concrete subclass.\n",
    "# This allows for polymorphism by ensuring that all subclasses implement the same interface.\n",
    "\n",
    "from abc import ABC , abstractmethod\n",
    "\n",
    "## Define abstract class\n",
    "class Vehicle(ABC):\n",
    "    @abstractmethod\n",
    "    def start_engine(self):\n",
    "        pass\n",
    "\n",
    "## Derived class 1\n",
    "class Car(Vehicle):\n",
    "    def start_engine(self):\n",
    "        return \"Car engine started!\"\n",
    "\n",
    "## Derived class 2\n",
    "class Motorcycle(Vehicle):\n",
    "    def start_engine(self):\n",
    "        return \"Motorcycle engine started!\"\n",
    "\n",
    "# function that demonstartes polymorphism\n",
    "def start_vehicle_engine(vehicle):\n",
    "    print(vehicle.start_engine())\n",
    "## create objects of car and motorcycle\n",
    "car = Car()\n",
    "motorcycle = Motorcycle()\n",
    "\n",
    "start_vehicle_engine(car)        # Output: Car engine started!"
   ]
  },
  {
   "cell_type": "code",
   "execution_count": null,
   "id": "221c4389",
   "metadata": {},
   "outputs": [],
   "source": []
  }
 ],
 "metadata": {
  "kernelspec": {
   "display_name": "Python 3",
   "language": "python",
   "name": "python3"
  },
  "language_info": {
   "codemirror_mode": {
    "name": "ipython",
    "version": 3
   },
   "file_extension": ".py",
   "mimetype": "text/x-python",
   "name": "python",
   "nbconvert_exporter": "python",
   "pygments_lexer": "ipython3",
   "version": "3.10.16"
  }
 },
 "nbformat": 4,
 "nbformat_minor": 5
}
