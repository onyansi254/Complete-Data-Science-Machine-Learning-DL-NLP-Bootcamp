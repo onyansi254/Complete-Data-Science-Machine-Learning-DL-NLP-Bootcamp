{
 "cells": [
  {
   "cell_type": "code",
   "execution_count": 1,
   "id": "297869bc",
   "metadata": {},
   "outputs": [
    {
     "name": "stdout",
     "output_type": "stream",
     "text": [
      "Requirement already satisfied: numpy in e:\\complete-data-science-machine-learning-dl-nlp-bootcamp\\venv\\lib\\site-packages (2.2.4)Note: you may need to restart the kernel to use updated packages.\n",
      "\n"
     ]
    }
   ],
   "source": [
    "%pip install numpy"
   ]
  },
  {
   "cell_type": "code",
   "execution_count": 2,
   "id": "33bff735",
   "metadata": {},
   "outputs": [],
   "source": [
    "# numpy is a fundamental library for scientific computing in python\n",
    "# numpy is a module that provides a large collection of functions to perform mathematical operations on arrays\n",
    "\n",
    "import numpy as np"
   ]
  },
  {
   "cell_type": "code",
   "execution_count": 3,
   "id": "bdd90482",
   "metadata": {},
   "outputs": [
    {
     "name": "stdout",
     "output_type": "stream",
     "text": [
      "[1 2 3 4 5]\n",
      "<class 'numpy.ndarray'>\n",
      "(5,)\n"
     ]
    }
   ],
   "source": [
    "# create arrays using numpy\n",
    "\n",
    "## create 1D array\n",
    "arr1 = np.array([1,2,3,4,5])\n",
    "print(arr1)\n",
    "\n",
    "print(type(arr1))\n",
    "print(arr1.shape)"
   ]
  },
  {
   "cell_type": "code",
   "execution_count": 4,
   "id": "95204647",
   "metadata": {},
   "outputs": [
    {
     "data": {
      "text/plain": [
       "array([[1, 2, 3, 4, 5]])"
      ]
     },
     "execution_count": 4,
     "metadata": {},
     "output_type": "execute_result"
    }
   ],
   "source": [
    "# conver rows and columns\n",
    "arr2 = np.array([1,2,3,4,5])\n",
    "arr2.reshape(1,5)"
   ]
  },
  {
   "cell_type": "code",
   "execution_count": 5,
   "id": "3c8a20f3",
   "metadata": {},
   "outputs": [
    {
     "name": "stdout",
     "output_type": "stream",
     "text": [
      "[[1 2 4 5 6]\n",
      " [2 3 4 5 6]]\n",
      "(2, 5)\n"
     ]
    }
   ],
   "source": [
    "# 2D array\n",
    "arr2 = np.array([[1,2,4,5,6], [2,3,4,5,6]])\n",
    "print(arr2)\n",
    "print(arr2.shape) "
   ]
  },
  {
   "cell_type": "code",
   "execution_count": 6,
   "id": "022a2926",
   "metadata": {},
   "outputs": [
    {
     "data": {
      "text/plain": [
       "array([[0],\n",
       "       [2],\n",
       "       [4],\n",
       "       [6],\n",
       "       [8]])"
      ]
     },
     "execution_count": 6,
     "metadata": {},
     "output_type": "execute_result"
    }
   ],
   "source": [
    "np.arange(0,10,2).reshape(5,1)"
   ]
  },
  {
   "cell_type": "code",
   "execution_count": 7,
   "id": "78088676",
   "metadata": {},
   "outputs": [
    {
     "data": {
      "text/plain": [
       "array([[1., 1., 1., 1.],\n",
       "       [1., 1., 1., 1.],\n",
       "       [1., 1., 1., 1.]])"
      ]
     },
     "execution_count": 7,
     "metadata": {},
     "output_type": "execute_result"
    }
   ],
   "source": [
    "np.ones((3,4))"
   ]
  },
  {
   "cell_type": "code",
   "execution_count": 8,
   "id": "8a9a899c",
   "metadata": {},
   "outputs": [
    {
     "data": {
      "text/plain": [
       "array([[1., 0., 0.],\n",
       "       [0., 1., 0.],\n",
       "       [0., 0., 1.]])"
      ]
     },
     "execution_count": 8,
     "metadata": {},
     "output_type": "execute_result"
    }
   ],
   "source": [
    "## identity matrix\n",
    "np.eye(3)"
   ]
  },
  {
   "cell_type": "code",
   "execution_count": 9,
   "id": "63371cf5",
   "metadata": {},
   "outputs": [
    {
     "name": "stdout",
     "output_type": "stream",
     "text": [
      "ARRAY:\n",
      " [[1 2 3]\n",
      " [4 5 6]]\n",
      "TRANSPOSE:\n",
      " [[1 4]\n",
      " [2 5]\n",
      " [3 6]]\n",
      "Shape:\n",
      " (2, 3)\n",
      "Size:\n",
      " 6\n",
      "Data type:\n",
      " int64\n",
      "Itemsize:\n",
      " 8\n",
      "Bytes:\n",
      " 48\n",
      "number of dimensions:\n",
      " 2\n"
     ]
    }
   ],
   "source": [
    "# attributes of numpy array\n",
    "arr = np.array([[1,2,3],[4,5,6]])\n",
    "\n",
    "print(\"ARRAY:\\n\", arr)\n",
    "\n",
    "print(\"TRANSPOSE:\\n\", arr.T)\n",
    "\n",
    "print(\"Shape:\\n\", arr.shape)\n",
    "\n",
    "print(\"Size:\\n\", arr.size)\n",
    "\n",
    "print(\"Data type:\\n\", arr.dtype)\n",
    "\n",
    "print(\"Itemsize:\\n\", arr.itemsize)\n",
    "\n",
    "print(\"Bytes:\\n\", arr.nbytes)\n",
    "\n",
    "print(\"number of dimensions:\\n\", arr.ndim)"
   ]
  },
  {
   "cell_type": "code",
   "execution_count": 10,
   "id": "ee1dfb19",
   "metadata": {},
   "outputs": [
    {
     "name": "stdout",
     "output_type": "stream",
     "text": [
      "Addition:\n",
      " [11 22 33 44 55]\n",
      "Subtraction:\n",
      " [ -9 -18 -27 -36 -45]\n",
      "Multiplication:\n",
      " [ 10  40  90 160 250]\n",
      "Division:\n",
      " [0.1 0.1 0.1 0.1 0.1]\n"
     ]
    }
   ],
   "source": [
    "## Numpy vectorized operation\n",
    "\n",
    "arr1 = np.array([1,2,3,4,5])\n",
    "arr2 = np.array([10,20,30,40,50])\n",
    "\n",
    "### element wise addition\n",
    "print (\"Addition:\\n\", arr1 + arr2)\n",
    "\n",
    "### element wise subtraction\n",
    "print (\"Subtraction:\\n\", arr1 - arr2)\n",
    "\n",
    "### element wise multiplication\n",
    "print (\"Multiplication:\\n\", arr1 * arr2)\n",
    "\n",
    "### element wise division\n",
    "print (\"Division:\\n\", arr1 / arr2)"
   ]
  },
  {
   "cell_type": "code",
   "execution_count": 11,
   "id": "caec9268",
   "metadata": {},
   "outputs": [
    {
     "name": "stdout",
     "output_type": "stream",
     "text": [
      "Square root:\n",
      " [1.41421356 1.73205081 2.         2.23606798 2.44948974]\n",
      "Exponential:\n",
      " [  7.3890561   20.08553692  54.59815003 148.4131591  403.42879349]\n",
      "Logarithmic:\n",
      " [0.69314718 1.09861229 1.38629436 1.60943791 1.79175947]\n",
      "Power:\n",
      " [ 4  9 16 25 36]\n"
     ]
    }
   ],
   "source": [
    "## Universal function\n",
    "arr = np.array([2,3,4,5,6])\n",
    "#square root\n",
    "print(\"Square root:\\n\", np.sqrt(arr))\n",
    "#exponential\n",
    "print(\"Exponential:\\n\", np.exp(arr))\n",
    "#logarithmic\n",
    "print(\"Logarithmic:\\n\", np.log(arr))\n",
    "#power\n",
    "print(\"Power:\\n\", np.power(arr,2))"
   ]
  },
  {
   "cell_type": "code",
   "execution_count": 12,
   "id": "23e1bf34",
   "metadata": {},
   "outputs": [
    {
     "name": "stdout",
     "output_type": "stream",
     "text": [
      "Array :\n",
      " [[ 1  2  3  4]\n",
      " [ 5  6  7  8]\n",
      " [ 9 10 11 12]]\n"
     ]
    }
   ],
   "source": [
    "## array slicing and indexing \n",
    "arr = np.array([[1,2,3,4], [5,6,7,8], [9,10,11,12]])\n",
    "print(\"Array :\\n\", arr)"
   ]
  },
  {
   "cell_type": "code",
   "execution_count": 13,
   "id": "fcc4e78d",
   "metadata": {},
   "outputs": [
    {
     "name": "stdout",
     "output_type": "stream",
     "text": [
      "1\n",
      "[[3 4]\n",
      " [7 8]]\n"
     ]
    }
   ],
   "source": [
    "print(arr[0][0])\n",
    "print(arr[0:2, 2:])"
   ]
  },
  {
   "cell_type": "code",
   "execution_count": 14,
   "id": "07d28083",
   "metadata": {},
   "outputs": [
    {
     "name": "stdout",
     "output_type": "stream",
     "text": [
      "[[ 6  7]\n",
      " [10 11]]\n"
     ]
    }
   ],
   "source": [
    "print (arr[1:, 1:3])"
   ]
  },
  {
   "cell_type": "code",
   "execution_count": 15,
   "id": "39d94efe",
   "metadata": {},
   "outputs": [
    {
     "name": "stdout",
     "output_type": "stream",
     "text": [
      "[[100   2   3   4]\n",
      " [  5   6   7   8]\n",
      " [  9  10  11  12]]\n"
     ]
    }
   ],
   "source": [
    "## Modifying array element\n",
    "arr[0,0] = 100\n",
    "print(arr)"
   ]
  },
  {
   "cell_type": "code",
   "execution_count": 16,
   "id": "6b3b690c",
   "metadata": {},
   "outputs": [
    {
     "data": {
      "text/plain": [
       "array([[ 7,  8],\n",
       "       [11, 12]])"
      ]
     },
     "execution_count": 16,
     "metadata": {},
     "output_type": "execute_result"
    }
   ],
   "source": [
    "arr[1:, 2:]"
   ]
  },
  {
   "cell_type": "code",
   "execution_count": 17,
   "id": "ca01e6f2",
   "metadata": {},
   "outputs": [
    {
     "name": "stdout",
     "output_type": "stream",
     "text": [
      "Normalized data:\n",
      " [-1.41421356 -0.70710678  0.          0.70710678  1.41421356]\n"
     ]
    }
   ],
   "source": [
    "### statistical concepts -- Normalization\n",
    "## change the data to have mean 0 and standard deviation 1\n",
    "data = np.array([1,2,3,4,5])\n",
    "\n",
    "# calculate mean and standard deviation\n",
    "mean = np.mean(data)\n",
    "std_dev = np.std(data)\n",
    "\n",
    "#Normalize data\n",
    "normalized_data = (data - mean) / std_dev\n",
    "print(\"Normalized data:\\n\", normalized_data)"
   ]
  },
  {
   "cell_type": "code",
   "execution_count": 18,
   "id": "77b3d9cc",
   "metadata": {},
   "outputs": [
    {
     "name": "stdout",
     "output_type": "stream",
     "text": [
      "Mean:\n",
      " 5.5\n",
      "Standard deviation:\n",
      " 2.8722813232690143\n",
      "Median:\n",
      " 5.5\n",
      "Variance:\n",
      " 8.25\n"
     ]
    }
   ],
   "source": [
    "data = np.array([1,2,3,4,5,6,7,8,9,10])\n",
    "\n",
    "#mean\n",
    "mean = np.mean(data)\n",
    "print(\"Mean:\\n\", mean)\n",
    "\n",
    "#standard deviation\n",
    "std_dev = np.std(data)\n",
    "print(\"Standard deviation:\\n\", std_dev)\n",
    "\n",
    "#median\n",
    "median = np.median(data)\n",
    "print(\"Median:\\n\", median)\n",
    "\n",
    "#variance\n",
    "variance = np.var(data)\n",
    "print(\"Variance:\\n\", variance)"
   ]
  },
  {
   "cell_type": "code",
   "execution_count": 20,
   "id": "357ecd63",
   "metadata": {},
   "outputs": [
    {
     "data": {
      "text/plain": [
       "array([ 8,  9, 10])"
      ]
     },
     "execution_count": 20,
     "metadata": {},
     "output_type": "execute_result"
    }
   ],
   "source": [
    "## logical operation\n",
    "data = np.array([1,2,3,4,5,6,7,8,9,10])\n",
    "\n",
    "data > 5\n",
    "\n",
    "data[(data>5) & (data>=8)]"
   ]
  },
  {
   "cell_type": "code",
   "execution_count": null,
   "id": "eac244cc",
   "metadata": {},
   "outputs": [],
   "source": []
  }
 ],
 "metadata": {
  "kernelspec": {
   "display_name": "Python 3",
   "language": "python",
   "name": "python3"
  },
  "language_info": {
   "codemirror_mode": {
    "name": "ipython",
    "version": 3
   },
   "file_extension": ".py",
   "mimetype": "text/x-python",
   "name": "python",
   "nbconvert_exporter": "python",
   "pygments_lexer": "ipython3",
   "version": "3.10.16"
  }
 },
 "nbformat": 4,
 "nbformat_minor": 5
}
