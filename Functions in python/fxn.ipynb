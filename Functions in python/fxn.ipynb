{
 "cells": [
  {
   "cell_type": "code",
   "execution_count": null,
   "id": "d4174ce7",
   "metadata": {},
   "outputs": [],
   "source": [
    "# syntax\n",
    "def function_name(parameters):\n",
    "    \"\"\"Docstrinf\"\"\"\n",
    "    # function body\n",
    "    return expression"
   ]
  },
  {
   "cell_type": "code",
   "execution_count": 1,
   "id": "896535ea",
   "metadata": {},
   "outputs": [
    {
     "name": "stdout",
     "output_type": "stream",
     "text": [
      "The number is even\n"
     ]
    }
   ],
   "source": [
    "## why functions?\n",
    "num = 24\n",
    "if num%2==0:\n",
    "    print(\"The number is even\")\n",
    "else:\n",
    "    print(\"the number is odd\")"
   ]
  },
  {
   "cell_type": "code",
   "execution_count": 3,
   "id": "7befb2f4",
   "metadata": {},
   "outputs": [],
   "source": [
    "def odd_or_even(num):\n",
    "    \"\"\"This function find even or odd\"\"\"\n",
    "    if num%2==0:\n",
    "        print(\"number is even\")\n",
    "    else:\n",
    "        print(\"number is odd\")"
   ]
  },
  {
   "cell_type": "code",
   "execution_count": 4,
   "id": "b74fa15e",
   "metadata": {},
   "outputs": [
    {
     "name": "stdout",
     "output_type": "stream",
     "text": [
      "number is even\n"
     ]
    }
   ],
   "source": [
    "# call this function\n",
    "odd_or_even(24)"
   ]
  },
  {
   "cell_type": "code",
   "execution_count": 6,
   "id": "1ebee2b1",
   "metadata": {},
   "outputs": [
    {
     "name": "stdout",
     "output_type": "stream",
     "text": [
      "6\n"
     ]
    }
   ],
   "source": [
    "# function with multiple parameters\n",
    "def add(a,b):\n",
    "    return a+b\n",
    "result = add(2,4)\n",
    "print(result)"
   ]
  },
  {
   "cell_type": "code",
   "execution_count": null,
   "id": "0f68e136",
   "metadata": {},
   "outputs": [
    {
     "name": "stdout",
     "output_type": "stream",
     "text": [
      "Hello Guest welcome to data\n"
     ]
    }
   ],
   "source": [
    "# default parameters\n",
    "def greet(name = \"Guest\"):\n",
    "    print(f\"Hello {name} welcome to data\")\n",
    "\n",
    "greet() # will output default parameter if you have not defined it"
   ]
  },
  {
   "cell_type": "code",
   "execution_count": 10,
   "id": "32230190",
   "metadata": {},
   "outputs": [],
   "source": [
    "### Variable length argument\n",
    "## Positional and Keywords arguments - many parameters\n",
    "\n",
    "def print_numbers(*args):\n",
    "    for number in args:\n",
    "        print(number)"
   ]
  },
  {
   "cell_type": "code",
   "execution_count": 11,
   "id": "645360fd",
   "metadata": {},
   "outputs": [
    {
     "name": "stdout",
     "output_type": "stream",
     "text": [
      "1\n",
      "2\n",
      "3\n",
      "4\n",
      "5\n",
      "6\n",
      "7\n",
      "8\n",
      "Richard\n"
     ]
    }
   ],
   "source": [
    "print_numbers(1,2,3,4,5,6,7,8,\"Richard\")"
   ]
  },
  {
   "cell_type": "code",
   "execution_count": 12,
   "id": "31e096f8",
   "metadata": {},
   "outputs": [],
   "source": [
    "# positional arguments\n",
    "def print_numbers(*args):\n",
    "    for number in args:\n",
    "        print(number)"
   ]
  },
  {
   "cell_type": "code",
   "execution_count": 3,
   "id": "2177fe57",
   "metadata": {},
   "outputs": [],
   "source": [
    "### keyword arguments\n",
    "def print_details(**kwargs):\n",
    "    for key,value in kwargs.items():\n",
    "        print(f\"{key}:{value}\")"
   ]
  },
  {
   "cell_type": "code",
   "execution_count": 4,
   "id": "575d2dea",
   "metadata": {},
   "outputs": [
    {
     "name": "stdout",
     "output_type": "stream",
     "text": [
      "name:Richard\n",
      "age:32\n",
      "country:Kenya\n"
     ]
    }
   ],
   "source": [
    "print_details(name=\"Richard\",age=\"32\",country=\"Kenya\")"
   ]
  },
  {
   "cell_type": "code",
   "execution_count": 11,
   "id": "c2156da5",
   "metadata": {},
   "outputs": [],
   "source": [
    "def print_details(*args,**kwargs):\n",
    "    for val in args:\n",
    "        print(f\"positional argument : {val}\")\n",
    "\n",
    "    print(\"==========================================================\")\n",
    "\n",
    "    for key,value in kwargs.items():\n",
    "        print(f\"{key}:{value}\")"
   ]
  },
  {
   "cell_type": "code",
   "execution_count": 12,
   "id": "21a0fda2",
   "metadata": {},
   "outputs": [
    {
     "name": "stdout",
     "output_type": "stream",
     "text": [
      "positional argument : 1\n",
      "positional argument : 2\n",
      "positional argument : 3\n",
      "positional argument : 4\n",
      "positional argument : 5\n",
      "positional argument : 6\n",
      "positional argument : 7\n",
      "positional argument : 8\n",
      "positional argument : Richard\n",
      "==========================================================\n",
      "name:Richard\n",
      "age:32\n",
      "country:Kenya\n"
     ]
    }
   ],
   "source": [
    "print_details(1,2,3,4,5,6,7,8,\"Richard\",name=\"Richard\",age=\"32\",country=\"Kenya\")"
   ]
  },
  {
   "cell_type": "code",
   "execution_count": 15,
   "id": "e6721c6f",
   "metadata": {},
   "outputs": [
    {
     "data": {
      "text/plain": [
       "(18, 3)"
      ]
     },
     "execution_count": 15,
     "metadata": {},
     "output_type": "execute_result"
    }
   ],
   "source": [
    "# Return statement\n",
    "def multiply(a,b):\n",
    "    return a*b,a\n",
    "\n",
    "multiply(3,6)"
   ]
  },
  {
   "cell_type": "code",
   "execution_count": null,
   "id": "5d36edac",
   "metadata": {},
   "outputs": [],
   "source": [
    "#return multiple parameters\n",
    "def multiply(a,b):\n",
    "    return a*b,a\n",
    "\n",
    "multiply(3,6)"
   ]
  }
 ],
 "metadata": {
  "kernelspec": {
   "display_name": "Python 3",
   "language": "python",
   "name": "python3"
  },
  "language_info": {
   "codemirror_mode": {
    "name": "ipython",
    "version": 3
   },
   "file_extension": ".py",
   "mimetype": "text/x-python",
   "name": "python",
   "nbconvert_exporter": "python",
   "pygments_lexer": "ipython3",
   "version": "3.10.16"
  }
 },
 "nbformat": 4,
 "nbformat_minor": 5
}
